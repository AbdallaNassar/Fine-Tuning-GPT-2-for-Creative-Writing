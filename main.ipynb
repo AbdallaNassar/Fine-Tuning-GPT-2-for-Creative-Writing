{
 "cells": [
  {
   "cell_type": "markdown",
   "id": "af7bfa60",
   "metadata": {
    "papermill": {
     "duration": 0.008866,
     "end_time": "2024-10-15T17:43:40.699567",
     "exception": false,
     "start_time": "2024-10-15T17:43:40.690701",
     "status": "completed"
    },
    "tags": []
   },
   "source": [
    "## Imports & Installation"
   ]
  },
  {
   "cell_type": "markdown",
   "id": "06073ff2",
   "metadata": {
    "papermill": {
     "duration": 0.00798,
     "end_time": "2024-10-15T17:43:40.716324",
     "exception": false,
     "start_time": "2024-10-15T17:43:40.708344",
     "status": "completed"
    },
    "tags": []
   },
   "source": [
    "### Intallation"
   ]
  },
  {
   "cell_type": "markdown",
   "id": "b73017fa",
   "metadata": {
    "papermill": {
     "duration": 0.008913,
     "end_time": "2024-10-15T17:43:40.733303",
     "exception": false,
     "start_time": "2024-10-15T17:43:40.724390",
     "status": "completed"
    },
    "tags": []
   },
   "source": [
    "| Library         | Description                                                                                                           |\n",
    "|-----------------|-----------------------------------------------------------------------------------------------------------------------|\n",
    "| transformers    | A library that provides state-of-the-art pretrained models for various NLP tasks.                                     |\n",
    "| datasets        | A library that simplifies the process of accessing and working with a wide range of machine learning datasets.        |\n",
    "| mlflow          | A platform for managing the end-to-end machine learning lifecycle, from experimentation to deployment.                |\n",
    "| torch (PyTorch) | A powerful deep learning framework used for building, training, and deploying neural networks.                        |\n",
    "| pyngrok         | A tool that allows local servers (like Gradio apps) to be exposed to the internet for easy testing and sharing.       |\n",
    "| gradio          | A user-friendly library for creating interactive UIs for machine learning models, enabling easy sharing and testing.  |\n"
   ]
  },
  {
   "cell_type": "code",
   "execution_count": null,
   "id": "4ec8c371",
   "metadata": {
    "_kg_hide-input": true,
    "_kg_hide-output": true,
    "collapsed": true,
    "execution": {
     "iopub.execute_input": "2024-10-15T17:43:40.751039Z",
     "iopub.status.busy": "2024-10-15T17:43:40.750697Z",
     "iopub.status.idle": "2024-10-15T17:44:45.812060Z",
     "shell.execute_reply": "2024-10-15T17:44:45.810816Z"
    },
    "id": "ME_lHf_jtpEM",
    "jupyter": {
     "outputs_hidden": true
    },
    "outputId": "426749e7-25ff-4f64-a853-61275032ffcd",
    "papermill": {
     "duration": 65.073333,
     "end_time": "2024-10-15T17:44:45.814626",
     "exception": false,
     "start_time": "2024-10-15T17:43:40.741293",
     "status": "completed"
    },
    "tags": []
   },
   "outputs": [],
   "source": [
    "!pip install transformers -q\n",
    "!pip install datasets -q\n",
    "!pip install mlflow -q\n",
    "!pip install torch -q\n",
    "!pip install pyngrok -q\n",
    "!pip install gradio -q\n",
    "!pip install tf-keras -q"
   ]
  },
  {
   "cell_type": "code",
   "execution_count": 4,
   "id": "491a1522",
   "metadata": {
    "_kg_hide-input": true,
    "_kg_hide-output": true,
    "execution": {
     "iopub.execute_input": "2024-10-15T17:45:14.424383Z",
     "iopub.status.busy": "2024-10-15T17:45:14.423953Z",
     "iopub.status.idle": "2024-10-15T17:45:26.045260Z",
     "shell.execute_reply": "2024-10-15T17:45:26.044025Z"
    },
    "papermill": {
     "duration": 11.642108,
     "end_time": "2024-10-15T17:45:26.047656",
     "exception": false,
     "start_time": "2024-10-15T17:45:14.405548",
     "status": "completed"
    },
    "tags": []
   },
   "outputs": [],
   "source": [
    "!pip install accelerate>=0.26.0"
   ]
  },
  {
   "cell_type": "code",
   "execution_count": 5,
   "id": "74fbd78b",
   "metadata": {
    "_kg_hide-input": true,
    "_kg_hide-output": true,
    "execution": {
     "iopub.execute_input": "2024-10-15T17:45:26.083293Z",
     "iopub.status.busy": "2024-10-15T17:45:26.082923Z",
     "iopub.status.idle": "2024-10-15T17:45:27.830631Z",
     "shell.execute_reply": "2024-10-15T17:45:27.829750Z"
    },
    "papermill": {
     "duration": 1.767869,
     "end_time": "2024-10-15T17:45:27.832755",
     "exception": false,
     "start_time": "2024-10-15T17:45:26.064886",
     "status": "completed"
    },
    "tags": []
   },
   "outputs": [
    {
     "name": "stdout",
     "output_type": "stream",
     "text": [
      "Authtoken saved to configuration file: /root/.config/ngrok/ngrok.yml\r\n"
     ]
    }
   ],
   "source": [
    "!ngrok config add-authtoken 0000000000000000000000000000000000000000000000000"
   ]
  },
  {
   "cell_type": "markdown",
   "id": "a7c8fe1c",
   "metadata": {
    "papermill": {
     "duration": 0.017757,
     "end_time": "2024-10-15T17:45:27.868276",
     "exception": false,
     "start_time": "2024-10-15T17:45:27.850519",
     "status": "completed"
    },
    "tags": []
   },
   "source": [
    "### Imports"
   ]
  },
  {
   "cell_type": "code",
   "execution_count": 6,
   "id": "109d139d",
   "metadata": {
    "execution": {
     "iopub.execute_input": "2024-10-15T17:45:27.904563Z",
     "iopub.status.busy": "2024-10-15T17:45:27.904246Z",
     "iopub.status.idle": "2024-10-15T17:45:52.832025Z",
     "shell.execute_reply": "2024-10-15T17:45:52.831258Z"
    },
    "id": "e_rlESc7BbTJ",
    "papermill": {
     "duration": 24.948538,
     "end_time": "2024-10-15T17:45:52.834254",
     "exception": false,
     "start_time": "2024-10-15T17:45:27.885716",
     "status": "completed"
    },
    "tags": []
   },
   "outputs": [],
   "source": [
    "# Import necessary modules for subprocess management\n",
    "import subprocess\n",
    "# Import pyngrok for handling public access tunnels and configurations\n",
    "from pyngrok import ngrok, conf\n",
    "# For securely handling password inputs\n",
    "import getpass\n",
    "# Importing os module to interact with the operating system\n",
    "import os\n",
    "# Importing MLflow to track machine learning experiments with PyTorch models\n",
    "import mlflow\n",
    "import mlflow.pytorch\n",
    "# Import transformers' pre-trained GPT-2 model and tokenizer, as well as Trainer utilities\n",
    "from transformers import GPT2LMHeadModel, GPT2Tokenizer, Trainer, TrainingArguments, EarlyStoppingCallback\n",
    "# For loading and handling datasets\n",
    "from datasets import load_dataset, DatasetDict\n",
    "# Import PyTorch, a machine learning framework\n",
    "import torch\n",
    "# Import pre-trained models and tokenizers for causal language modeling tasks\n",
    "from transformers import AutoTokenizer, AutoModelForCausalLM\n",
    "# Importing Gradio, a framework to create web interfaces for machine learning models\n",
    "import gradio as gr"
   ]
  },
  {
   "cell_type": "markdown",
   "id": "129717f3",
   "metadata": {
    "papermill": {
     "duration": 0.017179,
     "end_time": "2024-10-15T17:45:52.869179",
     "exception": false,
     "start_time": "2024-10-15T17:45:52.852000",
     "status": "completed"
    },
    "tags": []
   },
   "source": [
    "## Initialization"
   ]
  },
  {
   "cell_type": "markdown",
   "id": "e59210b2",
   "metadata": {
    "papermill": {
     "duration": 0.017099,
     "end_time": "2024-10-15T17:45:52.903922",
     "exception": false,
     "start_time": "2024-10-15T17:45:52.886823",
     "status": "completed"
    },
    "tags": []
   },
   "source": [
    "Initializing MLflow Tracking with a SQLite Backend"
   ]
  },
  {
   "cell_type": "code",
   "execution_count": 7,
   "id": "e298c6a3",
   "metadata": {
    "_kg_hide-output": true,
    "collapsed": true,
    "execution": {
     "iopub.execute_input": "2024-10-15T17:45:52.940999Z",
     "iopub.status.busy": "2024-10-15T17:45:52.940331Z",
     "iopub.status.idle": "2024-10-15T17:45:52.948731Z",
     "shell.execute_reply": "2024-10-15T17:45:52.947820Z"
    },
    "id": "pDCn1K8XBi_T",
    "jupyter": {
     "outputs_hidden": true
    },
    "outputId": "87140ff9-11de-45f3-ba7e-50dfbb0fb307",
    "papermill": {
     "duration": 0.02952,
     "end_time": "2024-10-15T17:45:52.950714",
     "exception": false,
     "start_time": "2024-10-15T17:45:52.921194",
     "status": "completed"
    },
    "tags": []
   },
   "outputs": [
    {
     "data": {
      "text/plain": [
       "<Popen: returncode: None args: ['mlflow', 'ui', '--backend-store-uri', 'sqli...>"
      ]
     },
     "execution_count": 7,
     "metadata": {},
     "output_type": "execute_result"
    }
   ],
   "source": [
    "# Set the URI for MLflow to use a SQLite database as the backend store for tracking experiments.\n",
    "MLFLOW_TRACKING_URI = \"sqlite:///mlflow.db\"\n",
    "\n",
    "# Start the MLflow tracking UI in a new process, using the specified SQLite database as the backend store.\n",
    "subprocess.Popen([\"mlflow\", \"ui\", \"--backend-store-uri\", MLFLOW_TRACKING_URI])"
   ]
  },
  {
   "cell_type": "markdown",
   "id": "c3633f95",
   "metadata": {
    "papermill": {
     "duration": 0.017288,
     "end_time": "2024-10-15T17:45:52.985502",
     "exception": false,
     "start_time": "2024-10-15T17:45:52.968214",
     "status": "completed"
    },
    "tags": []
   },
   "source": [
    "Establishing MLflow Tracking Configuration for Experiment Management"
   ]
  },
  {
   "cell_type": "code",
   "execution_count": 8,
   "id": "411fae94",
   "metadata": {
    "execution": {
     "iopub.execute_input": "2024-10-15T17:45:53.022391Z",
     "iopub.status.busy": "2024-10-15T17:45:53.021563Z",
     "iopub.status.idle": "2024-10-15T17:45:55.299323Z",
     "shell.execute_reply": "2024-10-15T17:45:55.298401Z"
    },
    "id": "zV-LKOiRBmOU",
    "outputId": "8220f325-69a6-4d19-895d-9a8430c6611a",
    "papermill": {
     "duration": 2.298214,
     "end_time": "2024-10-15T17:45:55.301205",
     "exception": false,
     "start_time": "2024-10-15T17:45:53.002991",
     "status": "completed"
    },
    "tags": []
   },
   "outputs": [
    {
     "name": "stderr",
     "output_type": "stream",
     "text": [
      "2024/10/15 17:45:54 INFO mlflow.store.db.utils: Creating initial MLflow database tables...\n",
      "2024/10/15 17:45:54 INFO mlflow.store.db.utils: Updating database tables\n",
      "INFO  [alembic.runtime.migration] Context impl SQLiteImpl.\n",
      "INFO  [alembic.runtime.migration] Will assume non-transactional DDL.\n",
      "INFO  [alembic.runtime.migration] Running upgrade  -> 451aebb31d03, add metric step\n",
      "INFO  [alembic.runtime.migration] Running upgrade 451aebb31d03 -> 90e64c465722, migrate user column to tags\n",
      "INFO  [alembic.runtime.migration] Running upgrade 90e64c465722 -> 181f10493468, allow nulls for metric values\n",
      "INFO  [alembic.runtime.migration] Running upgrade 181f10493468 -> df50e92ffc5e, Add Experiment Tags Table\n",
      "INFO  [alembic.runtime.migration] Running upgrade df50e92ffc5e -> 7ac759974ad8, Update run tags with larger limit\n",
      "INFO  [alembic.runtime.migration] Running upgrade 7ac759974ad8 -> 89d4b8295536, create latest metrics table\n",
      "INFO  [89d4b8295536_create_latest_metrics_table_py] Migration complete!\n",
      "INFO  [alembic.runtime.migration] Running upgrade 89d4b8295536 -> 2b4d017a5e9b, add model registry tables to db\n",
      "INFO  [2b4d017a5e9b_add_model_registry_tables_to_db_py] Adding registered_models and model_versions tables to database.\n",
      "INFO  [2b4d017a5e9b_add_model_registry_tables_to_db_py] Migration complete!\n",
      "INFO  [alembic.runtime.migration] Running upgrade 2b4d017a5e9b -> cfd24bdc0731, Update run status constraint with killed\n",
      "INFO  [alembic.runtime.migration] Running upgrade cfd24bdc0731 -> 0a8213491aaa, drop_duplicate_killed_constraint\n",
      "INFO  [alembic.runtime.migration] Running upgrade 0a8213491aaa -> 728d730b5ebd, add registered model tags table\n",
      "INFO  [alembic.runtime.migration] Running upgrade 728d730b5ebd -> 27a6a02d2cf1, add model version tags table\n",
      "INFO  [alembic.runtime.migration] Running upgrade 27a6a02d2cf1 -> 84291f40a231, add run_link to model_version\n",
      "INFO  [alembic.runtime.migration] Running upgrade 84291f40a231 -> a8c4a736bde6, allow nulls for run_id\n",
      "INFO  [alembic.runtime.migration] Running upgrade a8c4a736bde6 -> 39d1c3be5f05, add_is_nan_constraint_for_metrics_tables_if_necessary\n",
      "INFO  [alembic.runtime.migration] Running upgrade 39d1c3be5f05 -> c48cb773bb87, reset_default_value_for_is_nan_in_metrics_table_for_mysql\n",
      "INFO  [alembic.runtime.migration] Running upgrade c48cb773bb87 -> bd07f7e963c5, create index on run_uuid\n",
      "INFO  [alembic.runtime.migration] Running upgrade bd07f7e963c5 -> 0c779009ac13, add deleted_time field to runs table\n",
      "INFO  [alembic.runtime.migration] Running upgrade 0c779009ac13 -> cc1f77228345, change param value length to 500\n",
      "INFO  [alembic.runtime.migration] Running upgrade cc1f77228345 -> 97727af70f4d, Add creation_time and last_update_time to experiments table\n",
      "INFO  [alembic.runtime.migration] Running upgrade 97727af70f4d -> 3500859a5d39, Add Model Aliases table\n",
      "INFO  [alembic.runtime.migration] Running upgrade 3500859a5d39 -> 7f2a7d5fae7d, add datasets inputs input_tags tables\n",
      "INFO  [alembic.runtime.migration] Running upgrade 7f2a7d5fae7d -> 2d6e25af4d3e, increase max param val length from 500 to 8000\n",
      "INFO  [alembic.runtime.migration] Running upgrade 2d6e25af4d3e -> acf3f17fdcc7, add storage location field to model versions\n",
      "INFO  [alembic.runtime.migration] Running upgrade acf3f17fdcc7 -> 867495a8f9d4, add trace tables\n",
      "INFO  [alembic.runtime.migration] Running upgrade 867495a8f9d4 -> 5b0e9adcef9c, add cascade deletion to trace tables foreign keys\n",
      "INFO  [alembic.runtime.migration] Running upgrade 5b0e9adcef9c -> 4465047574b1, increase max dataset schema size\n",
      "INFO  [alembic.runtime.migration] Running upgrade 4465047574b1 -> f5a4f2784254, increase run tag value limit to 8000\n",
      "INFO  [alembic.runtime.migration] Context impl SQLiteImpl.\n",
      "INFO  [alembic.runtime.migration] Will assume non-transactional DDL.\n",
      "2024/10/15 17:45:55 INFO mlflow.tracking.fluent: Experiment with name 'duration-prediction-experiment' does not exist. Creating a new experiment.\n"
     ]
    },
    {
     "data": {
      "text/plain": [
       "<Experiment: artifact_location='/kaggle/working/mlruns/1', creation_time=1729014355280, experiment_id='1', last_update_time=1729014355280, lifecycle_stage='active', name='duration-prediction-experiment', tags={}>"
      ]
     },
     "execution_count": 8,
     "metadata": {},
     "output_type": "execute_result"
    }
   ],
   "source": [
    "# Set the MLflow tracking URI to specify where the tracking data will be stored.\n",
    "mlflow.set_tracking_uri(MLFLOW_TRACKING_URI)\n",
    "\n",
    "# Set the name of the experiment to track runs under a specific experiment name in MLflow.\n",
    "mlflow.set_experiment(\"duration-prediction-experiment\")"
   ]
  },
  {
   "cell_type": "markdown",
   "id": "c9a09c8d",
   "metadata": {
    "papermill": {
     "duration": 0.020163,
     "end_time": "2024-10-15T17:45:55.342094",
     "exception": false,
     "start_time": "2024-10-15T17:45:55.321931",
     "status": "completed"
    },
    "tags": []
   },
   "source": [
    "Configuring ngrok with Authentication Token for Secure Tunneling"
   ]
  },
  {
   "cell_type": "code",
   "execution_count": 9,
   "id": "3a33f530",
   "metadata": {
    "execution": {
     "iopub.execute_input": "2024-10-15T17:45:55.384637Z",
     "iopub.status.busy": "2024-10-15T17:45:55.384301Z",
     "iopub.status.idle": "2024-10-15T17:45:55.704512Z",
     "shell.execute_reply": "2024-10-15T17:45:55.703528Z"
    },
    "id": "V662CxOaB5je",
    "outputId": "b64b5726-cd08-441a-bf2d-43d03b944965",
    "papermill": {
     "duration": 0.345491,
     "end_time": "2024-10-15T17:45:55.708334",
     "exception": false,
     "start_time": "2024-10-15T17:45:55.362843",
     "status": "completed"
    },
    "tags": []
   },
   "outputs": [
    {
     "name": "stdout",
     "output_type": "stream",
     "text": [
      " * ngrok tunnel \"https://b012-34-31-190-15.ngrok-free.app\" -> \"http://127.0.0.1:5000\"\n"
     ]
    }
   ],
   "source": [
    "# Define your ngrok authentication token here (replace with your actual token)\n",
    "NGROK_AUTH_TOKEN = '0000000000000000000000000000000000000000000000000'  # <-- Replace with your ngrok token\n",
    "\n",
    "# Import necessary libraries\n",
    "from pyngrok import ngrok, conf\n",
    "\n",
    "# Set the authentication token for ngrok configuration\n",
    "conf.get_default().auth_token = NGROK_AUTH_TOKEN\n",
    "\n",
    "# Set the local port number that the ngrok tunnel will forward to\n",
    "port = 5000\n",
    "\n",
    "# Establish an ngrok tunnel to the specified local port and retrieve the public URL\n",
    "public_url = ngrok.connect(port).public_url\n",
    "\n",
    "# Print the public URL provided by ngrok, which forwards to the local server\n",
    "print(f' * ngrok tunnel \\\"{public_url}\\\" -> \\\"http://127.0.0.1:{port}\\\"')\n"
   ]
  },
  {
   "cell_type": "markdown",
   "id": "90370101",
   "metadata": {
    "papermill": {
     "duration": 0.033395,
     "end_time": "2024-10-15T17:45:55.775802",
     "exception": false,
     "start_time": "2024-10-15T17:45:55.742407",
     "status": "completed"
    },
    "tags": []
   },
   "source": [
    "Creating MLflow Directory and Starting a New Experiment Run"
   ]
  },
  {
   "cell_type": "code",
   "execution_count": 10,
   "id": "a9fb4e7c",
   "metadata": {
    "execution": {
     "iopub.execute_input": "2024-10-15T17:45:55.836480Z",
     "iopub.status.busy": "2024-10-15T17:45:55.835855Z",
     "iopub.status.idle": "2024-10-15T17:45:55.978911Z",
     "shell.execute_reply": "2024-10-15T17:45:55.978010Z"
    },
    "papermill": {
     "duration": 0.176538,
     "end_time": "2024-10-15T17:45:55.981482",
     "exception": false,
     "start_time": "2024-10-15T17:45:55.804944",
     "status": "completed"
    },
    "tags": []
   },
   "outputs": [
    {
     "data": {
      "text/plain": [
       "<ActiveRun: >"
      ]
     },
     "execution_count": 10,
     "metadata": {},
     "output_type": "execute_result"
    }
   ],
   "source": [
    "# Create a directory named \"mlruns\" to store MLflow tracking data.\n",
    "# The exist_ok=True parameter means that no error will be raised if the directory already exists.\n",
    "os.makedirs(\"mlruns\", exist_ok=True)\n",
    "\n",
    "# End any active MLflow run to ensure that there are no overlapping runs.\n",
    "# This is useful to clean up before starting a new run.\n",
    "mlflow.end_run()\n",
    "\n",
    "# Start a new MLflow run to track metrics, parameters, and models associated with this particular experiment.\n",
    "mlflow.start_run()"
   ]
  },
  {
   "cell_type": "markdown",
   "id": "388c07de",
   "metadata": {
    "papermill": {
     "duration": 0.020648,
     "end_time": "2024-10-15T17:45:56.029975",
     "exception": false,
     "start_time": "2024-10-15T17:45:56.009327",
     "status": "completed"
    },
    "tags": []
   },
   "source": [
    "## Tokenization and Training"
   ]
  },
  {
   "cell_type": "markdown",
   "id": "3c14fade",
   "metadata": {
    "papermill": {
     "duration": 0.022149,
     "end_time": "2024-10-15T17:45:56.073225",
     "exception": false,
     "start_time": "2024-10-15T17:45:56.051076",
     "status": "completed"
    },
    "tags": []
   },
   "source": [
    "### Importing Dataset and Configuring GPT-2 for Language Modeling"
   ]
  },
  {
   "cell_type": "code",
   "execution_count": 11,
   "id": "d19e82e0",
   "metadata": {
    "execution": {
     "iopub.execute_input": "2024-10-15T17:45:56.118749Z",
     "iopub.status.busy": "2024-10-15T17:45:56.117905Z",
     "iopub.status.idle": "2024-10-15T17:46:01.517262Z",
     "shell.execute_reply": "2024-10-15T17:46:01.516264Z"
    },
    "papermill": {
     "duration": 5.428174,
     "end_time": "2024-10-15T17:46:01.522999",
     "exception": false,
     "start_time": "2024-10-15T17:45:56.094825",
     "status": "completed"
    },
    "tags": []
   },
   "outputs": [
    {
     "data": {
      "application/vnd.jupyter.widget-view+json": {
       "model_id": "1e9b60a67f754ebdbf7210b18f9292bb",
       "version_major": 2,
       "version_minor": 0
      },
      "text/plain": [
       "Generating train split: 0 examples [00:00, ? examples/s]"
      ]
     },
     "metadata": {},
     "output_type": "display_data"
    },
    {
     "name": "stderr",
     "output_type": "stream",
     "text": [
      "[2024-10-15 17:45:56 +0000] [137] [INFO] Starting gunicorn 23.0.0\n",
      "[2024-10-15 17:45:56 +0000] [137] [INFO] Listening at: http://127.0.0.1:5000 (137)\n",
      "[2024-10-15 17:45:56 +0000] [137] [INFO] Using worker: sync\n",
      "[2024-10-15 17:45:56 +0000] [142] [INFO] Booting worker with pid: 142\n",
      "[2024-10-15 17:45:56 +0000] [143] [INFO] Booting worker with pid: 143\n",
      "[2024-10-15 17:45:56 +0000] [144] [INFO] Booting worker with pid: 144\n",
      "[2024-10-15 17:45:56 +0000] [145] [INFO] Booting worker with pid: 145\n"
     ]
    },
    {
     "data": {
      "application/vnd.jupyter.widget-view+json": {
       "model_id": "ba114a60f8b149c1a6a0bb38d9e8315b",
       "version_major": 2,
       "version_minor": 0
      },
      "text/plain": [
       "tokenizer_config.json:   0%|          | 0.00/26.0 [00:00<?, ?B/s]"
      ]
     },
     "metadata": {},
     "output_type": "display_data"
    },
    {
     "data": {
      "application/vnd.jupyter.widget-view+json": {
       "model_id": "80ccf08b906c4fdf9785d04978749ee8",
       "version_major": 2,
       "version_minor": 0
      },
      "text/plain": [
       "vocab.json:   0%|          | 0.00/1.04M [00:00<?, ?B/s]"
      ]
     },
     "metadata": {},
     "output_type": "display_data"
    },
    {
     "data": {
      "application/vnd.jupyter.widget-view+json": {
       "model_id": "ce346548fd7d43c9869c4aa6b1b5d408",
       "version_major": 2,
       "version_minor": 0
      },
      "text/plain": [
       "merges.txt:   0%|          | 0.00/456k [00:00<?, ?B/s]"
      ]
     },
     "metadata": {},
     "output_type": "display_data"
    },
    {
     "data": {
      "application/vnd.jupyter.widget-view+json": {
       "model_id": "d931e171902d4ed5bb1f8f5c60964ff6",
       "version_major": 2,
       "version_minor": 0
      },
      "text/plain": [
       "tokenizer.json:   0%|          | 0.00/1.36M [00:00<?, ?B/s]"
      ]
     },
     "metadata": {},
     "output_type": "display_data"
    },
    {
     "data": {
      "application/vnd.jupyter.widget-view+json": {
       "model_id": "d44b6af31a8d4682b3cbd6e87cbcbb76",
       "version_major": 2,
       "version_minor": 0
      },
      "text/plain": [
       "config.json:   0%|          | 0.00/665 [00:00<?, ?B/s]"
      ]
     },
     "metadata": {},
     "output_type": "display_data"
    },
    {
     "name": "stderr",
     "output_type": "stream",
     "text": [
      "/opt/conda/lib/python3.10/site-packages/transformers/tokenization_utils_base.py:1617: FutureWarning: `clean_up_tokenization_spaces` was not set. It will be set to `True` by default. This behavior will be deprecated in transformers v4.45, and will be then set to `False` by default. For more details check this issue: https://github.com/huggingface/transformers/issues/31884\n",
      "  warnings.warn(\n"
     ]
    },
    {
     "data": {
      "application/vnd.jupyter.widget-view+json": {
       "model_id": "fc563d9f2e7d4861a1b2797f23a03aae",
       "version_major": 2,
       "version_minor": 0
      },
      "text/plain": [
       "model.safetensors:   0%|          | 0.00/548M [00:00<?, ?B/s]"
      ]
     },
     "metadata": {},
     "output_type": "display_data"
    },
    {
     "data": {
      "application/vnd.jupyter.widget-view+json": {
       "model_id": "61fcb0bb67594c6eb6529b0e4529a990",
       "version_major": 2,
       "version_minor": 0
      },
      "text/plain": [
       "generation_config.json:   0%|          | 0.00/124 [00:00<?, ?B/s]"
      ]
     },
     "metadata": {},
     "output_type": "display_data"
    }
   ],
   "source": [
    "# Specify the path to the cleaned dataset CSV file\n",
    "data_files = '/kaggle/input/cleaned-creative-writing/cleaned_creative_writing_dataset.csv'\n",
    "\n",
    "# Load the dataset from the specified CSV file\n",
    "# The 'csv' argument indicates the file format, and the 'data_files' argument specifies the path to the file\n",
    "dataset = load_dataset('csv', data_files=data_files)\n",
    "\n",
    "# Remove the 'text' column from the dataset\n",
    "# This is done to avoid any potential conflicts or redundant information\n",
    "dataset = dataset['train'].remove_columns(['text'])\n",
    "\n",
    "# Rename the 'cleaned_text' column to 'text' for consistency\n",
    "# This makes it easier to refer to the main text column in subsequent processing\n",
    "dataset = dataset.rename_column('cleaned_text', 'text')\n",
    "\n",
    "# Load the pre-trained GPT-2 tokenizer\n",
    "# The tokenizer is responsible for converting text into token IDs that the model can understand\n",
    "tokenizer = GPT2Tokenizer.from_pretrained('gpt2')\n",
    "\n",
    "# Load the pre-trained GPT-2 model\n",
    "# The 'GPT2LMHeadModel' is the model architecture that can generate text\n",
    "model = GPT2LMHeadModel.from_pretrained('gpt2')\n",
    "\n",
    "# Set the tokenizer's padding token to the end-of-sequence token\n",
    "# This is important for ensuring that input sequences have consistent lengths during training or inference\n",
    "tokenizer.pad_token = tokenizer.eos_token"
   ]
  },
  {
   "cell_type": "code",
   "execution_count": 12,
   "id": "b0ffd34b",
   "metadata": {
    "execution": {
     "iopub.execute_input": "2024-10-15T17:46:01.570116Z",
     "iopub.status.busy": "2024-10-15T17:46:01.569809Z",
     "iopub.status.idle": "2024-10-15T17:46:02.636305Z",
     "shell.execute_reply": "2024-10-15T17:46:02.635375Z"
    },
    "papermill": {
     "duration": 1.092253,
     "end_time": "2024-10-15T17:46:02.638219",
     "exception": false,
     "start_time": "2024-10-15T17:46:01.545966",
     "status": "completed"
    },
    "tags": []
   },
   "outputs": [
    {
     "name": "stderr",
     "output_type": "stream",
     "text": [
      "\u001b[34m\u001b[1mwandb\u001b[0m: Using wandb-core as the SDK backend. Please refer to https://wandb.me/wandb-core for more information.\n",
      "\u001b[34m\u001b[1mwandb\u001b[0m: W&B API key is configured. Use \u001b[1m`wandb login --relogin`\u001b[0m to force relogin\n",
      "\u001b[34m\u001b[1mwandb\u001b[0m: \u001b[33mWARNING\u001b[0m If you're specifying your api key in code, ensure this code is not shared publicly.\n",
      "\u001b[34m\u001b[1mwandb\u001b[0m: \u001b[33mWARNING\u001b[0m Consider setting the WANDB_API_KEY environment variable, or running `wandb login` from the command line.\n",
      "\u001b[34m\u001b[1mwandb\u001b[0m: Appending key for api.wandb.ai to your netrc file: /root/.netrc\n"
     ]
    },
    {
     "data": {
      "text/plain": [
       "True"
      ]
     },
     "execution_count": 12,
     "metadata": {},
     "output_type": "execute_result"
    }
   ],
   "source": [
    "import wandb\n",
    "\n",
    "# Replace 'your_api_key' with your actual API key\n",
    "wandb.login(key='0000000000000000000000000000000000000000')\n"
   ]
  },
  {
   "cell_type": "markdown",
   "id": "346a64cb",
   "metadata": {
    "papermill": {
     "duration": 0.022449,
     "end_time": "2024-10-15T17:46:02.683500",
     "exception": false,
     "start_time": "2024-10-15T17:46:02.661051",
     "status": "completed"
    },
    "tags": []
   },
   "source": [
    "### Dataset Preprocessing: Tokenization and Train-Test Split for GPT-2"
   ]
  },
  {
   "cell_type": "code",
   "execution_count": 13,
   "id": "702f7aa2",
   "metadata": {
    "execution": {
     "iopub.execute_input": "2024-10-15T17:46:02.729802Z",
     "iopub.status.busy": "2024-10-15T17:46:02.729503Z",
     "iopub.status.idle": "2024-10-15T17:46:07.268838Z",
     "shell.execute_reply": "2024-10-15T17:46:07.268040Z"
    },
    "papermill": {
     "duration": 4.565089,
     "end_time": "2024-10-15T17:46:07.270978",
     "exception": false,
     "start_time": "2024-10-15T17:46:02.705889",
     "status": "completed"
    },
    "tags": []
   },
   "outputs": [
    {
     "data": {
      "application/vnd.jupyter.widget-view+json": {
       "model_id": "84514ea7b872406baebc3de516a2d142",
       "version_major": 2,
       "version_minor": 0
      },
      "text/plain": [
       "Map:   0%|          | 0/1429 [00:00<?, ? examples/s]"
      ]
     },
     "metadata": {},
     "output_type": "display_data"
    }
   ],
   "source": [
    "# Define a tokenization function to process the dataset\n",
    "def tokenize_function(examples):\n",
    "    # Tokenize the 'text' field from the dataset examples using the pre-loaded tokenizer\n",
    "    # padding='max_length' ensures that all sequences are padded to the maximum length\n",
    "    # truncation=True cuts off sequences that exceed the max_length\n",
    "    # max_length=32 sets a fixed length of 32 tokens for each input\n",
    "    input_ids = tokenizer(\n",
    "        examples['text'],\n",
    "        padding='max_length',  # Pads to 32 tokens per sequence\n",
    "        truncation=True,       # Truncates sequences longer than 32 tokens\n",
    "        max_length=32          # Sets the maximum token length to 32\n",
    "    )\n",
    "\n",
    "    # Copy the 'input_ids' into a new field 'labels' to use as the target for training\n",
    "    # This is often done in language models to predict the next word in a sequence\n",
    "    input_ids['labels'] = input_ids['input_ids'].copy()\n",
    "    \n",
    "    # Return the tokenized input dictionary, including both 'input_ids' and 'labels'\n",
    "    return input_ids\n",
    "\n",
    "# Apply the tokenization function to the entire dataset\n",
    "# The map() method applies the function to each example in the dataset, with batched=True\n",
    "# meaning that multiple examples are passed in a single batch for faster processing\n",
    "tokenized_datasets = dataset.map(tokenize_function, batched=True)\n",
    "\n",
    "# Split the tokenized dataset into a training set and a validation set\n",
    "# train_test_split(test_size=0.2) splits 80% of the data for training and 20% for validation\n",
    "train_test_split = tokenized_datasets.train_test_split(test_size=0.2)\n",
    "\n",
    "# Organize the train and validation datasets into a DatasetDict for easy reference\n",
    "tokenized_datasets = DatasetDict({\n",
    "    'train': train_test_split['train'],        # Training dataset (80% of the data)\n",
    "    'validation': train_test_split['test']     # Validation dataset (20% of the data)\n",
    "})"
   ]
  },
  {
   "cell_type": "markdown",
   "id": "c4ef93e3",
   "metadata": {
    "papermill": {
     "duration": 0.023118,
     "end_time": "2024-10-15T17:46:07.317466",
     "exception": false,
     "start_time": "2024-10-15T17:46:07.294348",
     "status": "completed"
    },
    "tags": []
   },
   "source": [
    "### Training GPT-2 with Custom Hyperparameters and Logging with MLflow"
   ]
  },
  {
   "cell_type": "code",
   "execution_count": 14,
   "id": "8380fc14",
   "metadata": {
    "execution": {
     "iopub.execute_input": "2024-10-15T17:46:07.365002Z",
     "iopub.status.busy": "2024-10-15T17:46:07.364707Z",
     "iopub.status.idle": "2024-10-15T19:12:25.585499Z",
     "shell.execute_reply": "2024-10-15T19:12:25.584598Z"
    },
    "papermill": {
     "duration": 5178.247211,
     "end_time": "2024-10-15T19:12:25.587792",
     "exception": false,
     "start_time": "2024-10-15T17:46:07.340581",
     "status": "completed"
    },
    "tags": []
   },
   "outputs": [
    {
     "name": "stderr",
     "output_type": "stream",
     "text": [
      "/opt/conda/lib/python3.10/site-packages/transformers/training_args.py:1545: FutureWarning: `evaluation_strategy` is deprecated and will be removed in version 4.46 of 🤗 Transformers. Use `eval_strategy` instead\n",
      "  warnings.warn(\n",
      "/opt/conda/lib/python3.10/site-packages/transformers/training_args.py:1560: FutureWarning: using `no_cuda` is deprecated and will be removed in version 5.0 of 🤗 Transformers. Use `use_cpu` instead\n",
      "  warnings.warn(\n",
      "2024/10/15 17:46:10 ERROR mlflow.utils.async_logging.async_logging_queue: Run Id 2dc90d926dde44aab757b7b9fba74a09: Failed to log run data: Exception: Changing param values is not allowed. Params were already logged='[{'key': 'max_length', 'old_value': '32', 'new_value': '20'}]' for run ID='2dc90d926dde44aab757b7b9fba74a09'.\n",
      "\u001b[34m\u001b[1mwandb\u001b[0m: \u001b[33mWARNING\u001b[0m The `run_name` is currently set to the same value as `TrainingArguments.output_dir`. If this was not intended, please specify a different run name by setting the `TrainingArguments.run_name` parameter.\n",
      "\u001b[34m\u001b[1mwandb\u001b[0m: Currently logged in as: \u001b[33mmonafe301\u001b[0m (\u001b[33mmonafe301-na\u001b[0m). Use \u001b[1m`wandb login --relogin`\u001b[0m to force relogin\n",
      "\u001b[34m\u001b[1mwandb\u001b[0m: Tracking run with wandb version 0.18.3\n",
      "\u001b[34m\u001b[1mwandb\u001b[0m: Run data is saved locally in \u001b[35m\u001b[1m/kaggle/working/wandb/run-20241015_174610-6ru30s3w\u001b[0m\n",
      "\u001b[34m\u001b[1mwandb\u001b[0m: Run \u001b[1m`wandb offline`\u001b[0m to turn off syncing.\n",
      "\u001b[34m\u001b[1mwandb\u001b[0m: Syncing run \u001b[33m./results\u001b[0m\n",
      "\u001b[34m\u001b[1mwandb\u001b[0m: ⭐️ View project at \u001b[34m\u001b[4mhttps://wandb.ai/monafe301-na/huggingface\u001b[0m\n",
      "\u001b[34m\u001b[1mwandb\u001b[0m: 🚀 View run at \u001b[34m\u001b[4mhttps://wandb.ai/monafe301-na/huggingface/runs/6ru30s3w\u001b[0m\n"
     ]
    },
    {
     "data": {
      "text/html": [
       "\n",
       "    <div>\n",
       "      \n",
       "      <progress value='4572' max='11430' style='width:300px; height:20px; vertical-align: middle;'></progress>\n",
       "      [ 4572/11430 1:26:09 < 2:09:17, 0.88 it/s, Epoch 4/10]\n",
       "    </div>\n",
       "    <table border=\"1\" class=\"dataframe\">\n",
       "  <thead>\n",
       " <tr style=\"text-align: left;\">\n",
       "      <th>Epoch</th>\n",
       "      <th>Training Loss</th>\n",
       "      <th>Validation Loss</th>\n",
       "      <th>Accuracy</th>\n",
       "    </tr>\n",
       "  </thead>\n",
       "  <tbody>\n",
       "    <tr>\n",
       "      <td>1</td>\n",
       "      <td>5.543400</td>\n",
       "      <td>5.308781</td>\n",
       "      <td>0.186080</td>\n",
       "    </tr>\n",
       "    <tr>\n",
       "      <td>2</td>\n",
       "      <td>4.828900</td>\n",
       "      <td>5.316811</td>\n",
       "      <td>0.179414</td>\n",
       "    </tr>\n",
       "    <tr>\n",
       "      <td>3</td>\n",
       "      <td>4.349900</td>\n",
       "      <td>5.343615</td>\n",
       "      <td>0.180835</td>\n",
       "    </tr>\n",
       "    <tr>\n",
       "      <td>4</td>\n",
       "      <td>4.177100</td>\n",
       "      <td>5.446638</td>\n",
       "      <td>0.179196</td>\n",
       "    </tr>\n",
       "  </tbody>\n",
       "</table><p>"
      ],
      "text/plain": [
       "<IPython.core.display.HTML object>"
      ]
     },
     "metadata": {},
     "output_type": "display_data"
    },
    {
     "name": "stderr",
     "output_type": "stream",
     "text": [
      "There were missing keys in the checkpoint model loaded: ['lm_head.weight'].\n"
     ]
    },
    {
     "data": {
      "text/plain": [
       "TrainOutput(global_step=4572, training_loss=4.775720104040645, metrics={'train_runtime': 5175.0118, 'train_samples_per_second': 2.209, 'train_steps_per_second': 2.209, 'total_flos': 74664198144000.0, 'train_loss': 4.775720104040645, 'epoch': 4.0})"
      ]
     },
     "execution_count": 14,
     "metadata": {},
     "output_type": "execute_result"
    }
   ],
   "source": [
    "# Define a function to compute evaluation metrics\n",
    "# This function will be called during the evaluation phase of the model\n",
    "def compute_metrics(eval_pred):\n",
    "    logits, labels = eval_pred  # Extract the logits (model outputs) and true labels\n",
    "    predictions = logits.argmax(axis=-1)  # Get the predicted class by taking the argmax along the last axis\n",
    "    accuracy = (predictions == labels).mean()  # Compute the accuracy by comparing predictions with labels\n",
    "    return {'accuracy': accuracy}  # Return accuracy as a dictionary for logging\n",
    "\n",
    "# Define training hyperparameters\n",
    "learning_rate = 2e-5  # The learning rate for the optimizer\n",
    "per_device_train_batch_size = 1  # Batch size per device (1 sample per training step)\n",
    "num_train_epochs = 10  # Number of training epochs\n",
    "max_length = 32  # Maximum sequence length for inputs\n",
    "\n",
    "# Set up training arguments using Hugging Face's TrainingArguments class\n",
    "training_args = TrainingArguments(\n",
    "    output_dir='./results',  # Directory where results (like checkpoints and logs) will be saved\n",
    "    evaluation_strategy='epoch',  # Evaluate the model at the end of each epoch\n",
    "    save_strategy='epoch',  # Save the model at the end of each epoch\n",
    "    learning_rate=learning_rate,  # Set the learning rate for training\n",
    "    per_device_train_batch_size=per_device_train_batch_size,  # Set the batch size per device\n",
    "    num_train_epochs=num_train_epochs,  # Define the number of training epochs\n",
    "    weight_decay=0.01,  # Weight decay to avoid overfitting (used in regularization)\n",
    "    load_best_model_at_end=True,  # Load the best model based on evaluation metrics after training ends\n",
    "    metric_for_best_model=\"accuracy\",  # The metric used to select the best model (accuracy in this case)\n",
    "    no_cuda=True,  # Force training on CPU, set to False if using GPU\n",
    ")\n",
    "\n",
    "# Instantiate a Trainer to manage the training loop\n",
    "trainer = Trainer(\n",
    "    model=model,  # The pre-trained GPT-2 model that you want to fine-tune\n",
    "    args=training_args,  # Training arguments defined above\n",
    "    train_dataset=tokenized_datasets['train'],  # The training dataset\n",
    "    eval_dataset=tokenized_datasets['validation'],  # The validation dataset for evaluation\n",
    "    compute_metrics=compute_metrics,  # The function to compute evaluation metrics (accuracy here)\n",
    "    callbacks=[EarlyStoppingCallback(early_stopping_patience=3)],  # Early stopping callback to avoid overfitting\n",
    "    # The model stops training if it doesn't improve for 3 evaluation cycles (epochs in this case)\n",
    ")\n",
    "\n",
    "# Log hyperparameters using MLflow\n",
    "mlflow.log_param(\"data_files\", data_files)  # Log the dataset file used for training\n",
    "mlflow.log_param(\"learning_rate\", learning_rate)  # Log the learning rate used\n",
    "mlflow.log_param(\"per_device_train_batch_size\", per_device_train_batch_size)  # Log batch size\n",
    "mlflow.log_param(\"num_train_epochs\", num_train_epochs)  # Log number of epochs\n",
    "mlflow.log_param(\"max_length\", max_length)  # Log the max sequence length for tokenization\n",
    "mlflow.log_param(\"model_name\", \"gpt2\")  # Log the model name (GPT-2 in this case)\n",
    "\n",
    "# Start training the model using the Trainer instance\n",
    "trainer.train()\n"
   ]
  },
  {
   "cell_type": "markdown",
   "id": "b2d77f8e",
   "metadata": {
    "papermill": {
     "duration": 0.026043,
     "end_time": "2024-10-15T19:12:25.640590",
     "exception": false,
     "start_time": "2024-10-15T19:12:25.614547",
     "status": "completed"
    },
    "tags": []
   },
   "source": [
    "## Model Evaluation and Metrics Logging with MLflow for GPT-2"
   ]
  },
  {
   "cell_type": "markdown",
   "id": "e2e9da36",
   "metadata": {
    "papermill": {
     "duration": 0.024362,
     "end_time": "2024-10-15T19:12:25.689505",
     "exception": false,
     "start_time": "2024-10-15T19:12:25.665143",
     "status": "completed"
    },
    "tags": []
   },
   "source": [
    "### Completion of Training: Saving Model, Logging Metrics, and Ending MLflow Run"
   ]
  },
  {
   "cell_type": "code",
   "execution_count": 15,
   "id": "f878b0d9",
   "metadata": {
    "execution": {
     "iopub.execute_input": "2024-10-15T19:12:25.764205Z",
     "iopub.status.busy": "2024-10-15T19:12:25.763786Z",
     "iopub.status.idle": "2024-10-15T19:13:17.326070Z",
     "shell.execute_reply": "2024-10-15T19:13:17.325177Z"
    },
    "papermill": {
     "duration": 51.602472,
     "end_time": "2024-10-15T19:13:17.328293",
     "exception": false,
     "start_time": "2024-10-15T19:12:25.725821",
     "status": "completed"
    },
    "tags": []
   },
   "outputs": [
    {
     "name": "stderr",
     "output_type": "stream",
     "text": [
      "2024/10/15 19:12:39 WARNING mlflow.utils.environment: Encountered an unexpected error while inferring pip requirements (model URI: /tmp/tmpw4ovr1d9/model/data, flavor: pytorch). Fall back to return ['torch==2.4.0', 'cloudpickle==3.0.0']. Set logging level to DEBUG to see the full traceback. \n",
      "2024/10/15 19:12:39 WARNING mlflow.models.model: Model logged without a signature and input example. Please set `input_example` parameter when logging the model to auto infer the model signature.\n"
     ]
    },
    {
     "data": {
      "text/html": [
       "\n",
       "    <div>\n",
       "      \n",
       "      <progress value='36' max='36' style='width:300px; height:20px; vertical-align: middle;'></progress>\n",
       "      [36/36 00:26]\n",
       "    </div>\n",
       "    "
      ],
      "text/plain": [
       "<IPython.core.display.HTML object>"
      ]
     },
     "metadata": {},
     "output_type": "display_data"
    },
    {
     "name": "stdout",
     "output_type": "stream",
     "text": [
      "Model training and saving completed.\n"
     ]
    }
   ],
   "source": [
    "# Save the fine-tuned model and tokenizer locally\n",
    "model.save_pretrained('/kaggle/output/fine_tuned_gpt2')  # Save the fine-tuned GPT-2 model to the specified directory\n",
    "tokenizer.save_pretrained('/kaggle/output/fine_tuned_gpt2')  # Save the tokenizer (required for text preprocessing) to the same directory\n",
    "\n",
    "# Log the model to MLflow using the PyTorch logging interface\n",
    "# This will store the model artifact in the MLflow tracking system for later use\n",
    "mlflow.pytorch.log_model(model, \"fine_tuned_gpt2\")\n",
    "\n",
    "# Evaluate the model using the trainer and store the evaluation metrics (e.g., loss, accuracy)\n",
    "eval_metrics = trainer.evaluate()\n",
    "\n",
    "# Extract the training loss from the trainer's state history if it exists\n",
    "# The state.log_history holds a record of logs during training\n",
    "if 'loss' in trainer.state.log_history[-1]:\n",
    "    train_loss = trainer.state.log_history[-1]['loss']  # Get the last logged training loss\n",
    "else:\n",
    "    train_loss = None  # If not found, set training loss to None\n",
    "\n",
    "# Log metrics to MLflow\n",
    "mlflow.log_metric(\"Training Loss\", train_loss if train_loss is not None else 0.0)  # Log training loss (set to 0.0 if unavailable)\n",
    "mlflow.log_metric(\"Validation Loss\", eval_metrics['eval_loss'])  # Log the validation loss from evaluation\n",
    "mlflow.log_metric(\"Accuracy\", eval_metrics.get('eval_accuracy', 0.0))  # Log the accuracy (default to 0.0 if not found)\n",
    "\n",
    "# End the MLflow run to ensure all logs and artifacts are finalized\n",
    "mlflow.end_run()\n",
    "\n",
    "# Print confirmation message to indicate that the model training and saving process is complete\n",
    "print(\"Model training and saving completed.\")\n"
   ]
  },
  {
   "cell_type": "markdown",
   "id": "13fc8608",
   "metadata": {
    "papermill": {
     "duration": 0.024661,
     "end_time": "2024-10-15T19:13:17.378315",
     "exception": false,
     "start_time": "2024-10-15T19:13:17.353654",
     "status": "completed"
    },
    "tags": []
   },
   "source": [
    "### Generating Text with GPT-2: Story Creation and Experiment Tracking"
   ]
  },
  {
   "cell_type": "code",
   "execution_count": 16,
   "id": "b71c2750",
   "metadata": {
    "execution": {
     "iopub.execute_input": "2024-10-15T19:13:17.429750Z",
     "iopub.status.busy": "2024-10-15T19:13:17.429401Z",
     "iopub.status.idle": "2024-10-15T19:13:37.241277Z",
     "shell.execute_reply": "2024-10-15T19:13:37.240071Z"
    },
    "papermill": {
     "duration": 19.841909,
     "end_time": "2024-10-15T19:13:37.244925",
     "exception": false,
     "start_time": "2024-10-15T19:13:17.403016",
     "status": "completed"
    },
    "tags": []
   },
   "outputs": [
    {
     "name": "stderr",
     "output_type": "stream",
     "text": [
      "The attention mask is not set and cannot be inferred from input because pad token is same as eos token. As a consequence, you may observe unexpected behavior. Please pass your input's `attention_mask` to obtain reliable results.\n"
     ]
    },
    {
     "name": "stdout",
     "output_type": "stream",
     "text": [
      "Write a story about a girl's adventures in a magical forest where she finds strange creatures mysterious enough strange stories involving powerful beings including one powerful magical braziers used two different languages called abridged danish natur leont alto book book short story series writer stepe viver written by kem stolich chamm described one rare gem mac read julia morge wrote zamem schmerkel read zamemer series began series series a der pasz mieszka run short story series also book julien daniels sebarnic writer elle voorbe also called emmalo marius author co jelal first published a story abridged engorkt write long siberian christian adventure james schmercher mieszka prael began stolich kesler write dream wierander based scifi show story kehma serial serialized story sam ziegert began huff english published uitjerni series begin published scion algar biologist named sam ziegert zartz described how angel came born alien father semitude would told episode character gernim samsarin jordan cune rote uita john ziegert nagraham mics found evidence dream realized dream part a dream created another man created another god dream made future work written phinam book writing seibern mc frank also uitjo eden jordens novel series creator seiborn eugene yowler writers ui john jordens called oskirk cernovich scribes working title book began bren nishew tjainen mieszka wzdrama would live brian cordon mary told episodes run uitbennedy scion b rick would start story kraesela described future dream realized sibony would need life experience writer dream run future jordan hmezitskiewicz br wrote bromine published sh wanger author june ziegert mics first encountered fredkahnen met ziegert later visited brian cobwe davis newy mackey kennedy david sclosin oren shmerry ewberg yanks time ran novel severs time naturlein oren berenden lindin kefman received critical criticism writers called john tjohn lundre nr leve shrutberg felt good nia david samuel chinberg oren scion rutts pointed critique sentry write world world written by alex mike xandra hares story follows uitbar upper said story still liana yertania future dream krassels sentries read stories short stories hune de sirens written rote vernot kreudberg chy\n"
     ]
    }
   ],
   "source": [
    "# Load the fine-tuned model and tokenizer from the specified directory\n",
    "model_name = \"/kaggle/output/fine_tuned_gpt2\"  # Path to the saved fine-tuned model directory\n",
    "tokenizer = AutoTokenizer.from_pretrained(model_name)  # Load the tokenizer associated with the model\n",
    "model = AutoModelForCausalLM.from_pretrained(model_name)  # Load the model for causal language modeling\n",
    "\n",
    "# Set the model to evaluation mode\n",
    "# This is essential for inference, disabling dropout and other training-specific behaviors\n",
    "model.eval()\n",
    "\n",
    "# Define a function to generate stories based on a given prompt\n",
    "# max_length: maximum length of the generated story\n",
    "# temperature: controls randomness in the generation process (higher values = more random)\n",
    "# top_k: limits the sampling pool to the top-k most likely next words\n",
    "def generate_story(prompt, max_length=1000, temperature=1.5, top_k=100):\n",
    "    # Tokenize the input prompt and convert it into input IDs (tensor format)\n",
    "    input_ids = tokenizer.encode(prompt, return_tensors='pt')  # 'pt' indicates PyTorch tensors\n",
    "    \n",
    "    # Disable gradient computation during generation for efficiency\n",
    "    with torch.no_grad():\n",
    "        # Generate text from the input prompt\n",
    "        output = model.generate(\n",
    "            input_ids,  # The input prompt as tokenized IDs\n",
    "            max_length=max_length,  # Maximum length of the generated sequence\n",
    "            temperature=temperature,  # Controls diversity in the output\n",
    "            top_k=top_k,  # Limits sampling to the top-k most probable tokens\n",
    "            do_sample=True,  # Enables sampling for more varied text generation\n",
    "            num_return_sequences=1,  # Generate only one sequence\n",
    "            pad_token_id=tokenizer.eos_token_id  # Use EOS token for padding\n",
    "        )\n",
    "\n",
    "    # Decode the generated tokens back into human-readable text\n",
    "    generated_story = tokenizer.decode(output[0], skip_special_tokens=True)  # Skip special tokens in the output\n",
    "\n",
    "    # Start a new MLflow run to log parameters related to text generation\n",
    "    mlflow.start_run()\n",
    "    mlflow.log_param(\"generation_max_length\", max_length)  # Log the maximum length for generation\n",
    "    mlflow.log_param(\"temperature\", temperature)  # Log the temperature setting\n",
    "    mlflow.log_param(\"top_k\", top_k)  # Log the top-k value used for sampling\n",
    "    mlflow.log_param(\"prompt\", prompt)  # Log the prompt that was used for generation\n",
    "    mlflow.end_run()  # End the MLflow run to save the logged parameters\n",
    "\n",
    "    return generated_story  # Return the generated story\n",
    "\n",
    "# Define a prompt to initiate the story generation\n",
    "prompt = \"Write a story about a girl's adventures in a magical forest where she finds strange creatures\"\n",
    "# Generate the story based on the prompt and specified parameters\n",
    "generated_text = generate_story(prompt, max_length=1000)  # Adjust max_length as needed\n",
    "# Print the generated story\n",
    "print(generated_text)\n"
   ]
  },
  {
   "cell_type": "markdown",
   "id": "0712df29",
   "metadata": {
    "papermill": {
     "duration": 0.025117,
     "end_time": "2024-10-15T19:13:37.297939",
     "exception": false,
     "start_time": "2024-10-15T19:13:37.272822",
     "status": "completed"
    },
    "tags": []
   },
   "source": [
    "### Gradio-Powered Story Generation: Generate Tales with Fine-Tuned GPT-2"
   ]
  },
  {
   "cell_type": "code",
   "execution_count": 17,
   "id": "6abf520b",
   "metadata": {
    "execution": {
     "iopub.execute_input": "2024-10-15T19:13:37.349995Z",
     "iopub.status.busy": "2024-10-15T19:13:37.349222Z",
     "iopub.status.idle": "2024-10-15T19:13:38.792494Z",
     "shell.execute_reply": "2024-10-15T19:13:38.791688Z"
    },
    "id": "kR_PruYuD9mg",
    "outputId": "d3662e68-8f53-4dbc-d704-e36dbd6c3d79",
    "papermill": {
     "duration": 1.471132,
     "end_time": "2024-10-15T19:13:38.794336",
     "exception": false,
     "start_time": "2024-10-15T19:13:37.323204",
     "status": "completed"
    },
    "tags": []
   },
   "outputs": [
    {
     "name": "stdout",
     "output_type": "stream",
     "text": [
      "* Running on local URL:  http://127.0.0.1:7860\n",
      "* Running on public URL: https://209b8507be98c3caf9.gradio.live\n",
      "\n",
      "This share link expires in 72 hours. For free permanent hosting and GPU upgrades, run `gradio deploy` from the terminal in the working directory to deploy to Hugging Face Spaces (https://huggingface.co/spaces)\n"
     ]
    },
    {
     "data": {
      "text/html": [
       "<div><iframe src=\"https://209b8507be98c3caf9.gradio.live\" width=\"100%\" height=\"500\" allow=\"autoplay; camera; microphone; clipboard-read; clipboard-write;\" frameborder=\"0\" allowfullscreen></iframe></div>"
      ],
      "text/plain": [
       "<IPython.core.display.HTML object>"
      ]
     },
     "metadata": {},
     "output_type": "display_data"
    },
    {
     "data": {
      "text/plain": []
     },
     "execution_count": 17,
     "metadata": {},
     "output_type": "execute_result"
    }
   ],
   "source": [
    "# Import Gradio for creating web interfaces\n",
    "import gradio as gr\n",
    "\n",
    "# Define a wrapper function for generating stories using the previously defined generate_story function\n",
    "def gradio_generate(prompt):\n",
    "    # Call the generate_story function with the provided prompt to get the generated text\n",
    "    generated_text = generate_story(prompt)  # This utilizes the fine-tuned model to generate the story\n",
    "    return generated_text  # Return the generated story for display in the Gradio interface\n",
    "\n",
    "# Create a Gradio interface\n",
    "gradio_interface = gr.Interface(\n",
    "    fn=gradio_generate,  # Function that will be called to generate text\n",
    "    inputs=\"text\",  # Input type is a text box for users to enter their prompts\n",
    "    outputs=\"text\",  # Output type is a text box for displaying the generated story\n",
    "    title=\"Story Generator\",  # Title of the Gradio app displayed at the top\n",
    "    description=\"Enter a prompt to generate a story using the fine-tuned GPT-2 model.\",  # Description shown to users\n",
    ")\n",
    "\n",
    "# Launch the Gradio interface\n",
    "# The share=True option allows the interface to be shared via a public link\n",
    "gradio_interface.launch(share=True)\n"
   ]
  }
 ],
 "metadata": {
  "accelerator": "GPU",
  "colab": {
   "gpuType": "T4",
   "provenance": []
  },
  "kaggle": {
   "accelerator": "nvidiaTeslaT4",
   "dataSources": [
    {
     "datasetId": 5881670,
     "sourceId": 9633704,
     "sourceType": "datasetVersion"
    }
   ],
   "dockerImageVersionId": 30787,
   "isGpuEnabled": true,
   "isInternetEnabled": true,
   "language": "python",
   "sourceType": "notebook"
  },
  "kernelspec": {
   "display_name": "Python 3",
   "language": "python",
   "name": "python3"
  },
  "language_info": {
   "codemirror_mode": {
    "name": "ipython",
    "version": 3
   },
   "file_extension": ".py",
   "mimetype": "text/x-python",
   "name": "python",
   "nbconvert_exporter": "python",
   "pygments_lexer": "ipython3",
   "version": "3.10.14"
  },
  "papermill": {
   "default_parameters": {},
   "duration": 5403.536333,
   "end_time": "2024-10-15T19:13:41.641805",
   "environment_variables": {},
   "exception": null,
   "input_path": "__notebook__.ipynb",
   "output_path": "__notebook__.ipynb",
   "parameters": {},
   "start_time": "2024-10-15T17:43:38.105472",
   "version": "2.6.0"
  },
  "widgets": {
   "application/vnd.jupyter.widget-state+json": {
    "state": {
     "072ed2d6efe948c1adff648dfa31c8cb": {
      "model_module": "@jupyter-widgets/base",
      "model_module_version": "1.2.0",
      "model_name": "LayoutModel",
      "state": {
       "_model_module": "@jupyter-widgets/base",
       "_model_module_version": "1.2.0",
       "_model_name": "LayoutModel",
       "_view_count": null,
       "_view_module": "@jupyter-widgets/base",
       "_view_module_version": "1.2.0",
       "_view_name": "LayoutView",
       "align_content": null,
       "align_items": null,
       "align_self": null,
       "border": null,
       "bottom": null,
       "display": null,
       "flex": null,
       "flex_flow": null,
       "grid_area": null,
       "grid_auto_columns": null,
       "grid_auto_flow": null,
       "grid_auto_rows": null,
       "grid_column": null,
       "grid_gap": null,
       "grid_row": null,
       "grid_template_areas": null,
       "grid_template_columns": null,
       "grid_template_rows": null,
       "height": null,
       "justify_content": null,
       "justify_items": null,
       "left": null,
       "margin": null,
       "max_height": null,
       "max_width": null,
       "min_height": null,
       "min_width": null,
       "object_fit": null,
       "object_position": null,
       "order": null,
       "overflow": null,
       "overflow_x": null,
       "overflow_y": null,
       "padding": null,
       "right": null,
       "top": null,
       "visibility": null,
       "width": null
      }
     },
     "08c0c62c46c8463c95ae726cd839b0c9": {
      "model_module": "@jupyter-widgets/base",
      "model_module_version": "1.2.0",
      "model_name": "LayoutModel",
      "state": {
       "_model_module": "@jupyter-widgets/base",
       "_model_module_version": "1.2.0",
       "_model_name": "LayoutModel",
       "_view_count": null,
       "_view_module": "@jupyter-widgets/base",
       "_view_module_version": "1.2.0",
       "_view_name": "LayoutView",
       "align_content": null,
       "align_items": null,
       "align_self": null,
       "border": null,
       "bottom": null,
       "display": null,
       "flex": null,
       "flex_flow": null,
       "grid_area": null,
       "grid_auto_columns": null,
       "grid_auto_flow": null,
       "grid_auto_rows": null,
       "grid_column": null,
       "grid_gap": null,
       "grid_row": null,
       "grid_template_areas": null,
       "grid_template_columns": null,
       "grid_template_rows": null,
       "height": null,
       "justify_content": null,
       "justify_items": null,
       "left": null,
       "margin": null,
       "max_height": null,
       "max_width": null,
       "min_height": null,
       "min_width": null,
       "object_fit": null,
       "object_position": null,
       "order": null,
       "overflow": null,
       "overflow_x": null,
       "overflow_y": null,
       "padding": null,
       "right": null,
       "top": null,
       "visibility": null,
       "width": null
      }
     },
     "0b11500e3f1e429eba79ebea6f46c3fd": {
      "model_module": "@jupyter-widgets/controls",
      "model_module_version": "1.5.0",
      "model_name": "HTMLModel",
      "state": {
       "_dom_classes": [],
       "_model_module": "@jupyter-widgets/controls",
       "_model_module_version": "1.5.0",
       "_model_name": "HTMLModel",
       "_view_count": null,
       "_view_module": "@jupyter-widgets/controls",
       "_view_module_version": "1.5.0",
       "_view_name": "HTMLView",
       "description": "",
       "description_tooltip": null,
       "layout": "IPY_MODEL_771f429cfc4f4729973bc69850b59dc5",
       "placeholder": "​",
       "style": "IPY_MODEL_4a28308f4cda4c2ebddf93235d6ba55f",
       "value": " 1.04M/1.04M [00:00&lt;00:00, 5.69MB/s]"
      }
     },
     "0c0a846404044067ad7f602afdc08d0d": {
      "model_module": "@jupyter-widgets/controls",
      "model_module_version": "1.5.0",
      "model_name": "HTMLModel",
      "state": {
       "_dom_classes": [],
       "_model_module": "@jupyter-widgets/controls",
       "_model_module_version": "1.5.0",
       "_model_name": "HTMLModel",
       "_view_count": null,
       "_view_module": "@jupyter-widgets/controls",
       "_view_module_version": "1.5.0",
       "_view_name": "HTMLView",
       "description": "",
       "description_tooltip": null,
       "layout": "IPY_MODEL_3e7f8f85549842d0bf772402eb3b002f",
       "placeholder": "​",
       "style": "IPY_MODEL_6505216dbee24aa49fcbfd759db3de28",
       "value": "merges.txt: 100%"
      }
     },
     "109490f3ffb545af900ed223d4c551f8": {
      "model_module": "@jupyter-widgets/base",
      "model_module_version": "1.2.0",
      "model_name": "LayoutModel",
      "state": {
       "_model_module": "@jupyter-widgets/base",
       "_model_module_version": "1.2.0",
       "_model_name": "LayoutModel",
       "_view_count": null,
       "_view_module": "@jupyter-widgets/base",
       "_view_module_version": "1.2.0",
       "_view_name": "LayoutView",
       "align_content": null,
       "align_items": null,
       "align_self": null,
       "border": null,
       "bottom": null,
       "display": null,
       "flex": null,
       "flex_flow": null,
       "grid_area": null,
       "grid_auto_columns": null,
       "grid_auto_flow": null,
       "grid_auto_rows": null,
       "grid_column": null,
       "grid_gap": null,
       "grid_row": null,
       "grid_template_areas": null,
       "grid_template_columns": null,
       "grid_template_rows": null,
       "height": null,
       "justify_content": null,
       "justify_items": null,
       "left": null,
       "margin": null,
       "max_height": null,
       "max_width": null,
       "min_height": null,
       "min_width": null,
       "object_fit": null,
       "object_position": null,
       "order": null,
       "overflow": null,
       "overflow_x": null,
       "overflow_y": null,
       "padding": null,
       "right": null,
       "top": null,
       "visibility": null,
       "width": null
      }
     },
     "126974300337403ea7a4c1ed2a071ca4": {
      "model_module": "@jupyter-widgets/base",
      "model_module_version": "1.2.0",
      "model_name": "LayoutModel",
      "state": {
       "_model_module": "@jupyter-widgets/base",
       "_model_module_version": "1.2.0",
       "_model_name": "LayoutModel",
       "_view_count": null,
       "_view_module": "@jupyter-widgets/base",
       "_view_module_version": "1.2.0",
       "_view_name": "LayoutView",
       "align_content": null,
       "align_items": null,
       "align_self": null,
       "border": null,
       "bottom": null,
       "display": null,
       "flex": null,
       "flex_flow": null,
       "grid_area": null,
       "grid_auto_columns": null,
       "grid_auto_flow": null,
       "grid_auto_rows": null,
       "grid_column": null,
       "grid_gap": null,
       "grid_row": null,
       "grid_template_areas": null,
       "grid_template_columns": null,
       "grid_template_rows": null,
       "height": null,
       "justify_content": null,
       "justify_items": null,
       "left": null,
       "margin": null,
       "max_height": null,
       "max_width": null,
       "min_height": null,
       "min_width": null,
       "object_fit": null,
       "object_position": null,
       "order": null,
       "overflow": null,
       "overflow_x": null,
       "overflow_y": null,
       "padding": null,
       "right": null,
       "top": null,
       "visibility": null,
       "width": null
      }
     },
     "132ce8ca655349968723f417d488b7bf": {
      "model_module": "@jupyter-widgets/controls",
      "model_module_version": "1.5.0",
      "model_name": "HBoxModel",
      "state": {
       "_dom_classes": [],
       "_model_module": "@jupyter-widgets/controls",
       "_model_module_version": "1.5.0",
       "_model_name": "HBoxModel",
       "_view_count": null,
       "_view_module": "@jupyter-widgets/controls",
       "_view_module_version": "1.5.0",
       "_view_name": "HBoxView",
       "box_style": "",
       "children": [
        "IPY_MODEL_48ed13a1356d4d0ab27a0dbad3a6d40e",
        "IPY_MODEL_2f0610b236bf4d359275acb103cd792a",
        "IPY_MODEL_99aa66ebf64a4b06ac4d306159310908"
       ],
       "layout": "IPY_MODEL_69730001a10745baac34fe869d3445f3"
      }
     },
     "137d7708f0ea414686c054b033483775": {
      "model_module": "@jupyter-widgets/controls",
      "model_module_version": "1.5.0",
      "model_name": "FloatProgressModel",
      "state": {
       "_dom_classes": [],
       "_model_module": "@jupyter-widgets/controls",
       "_model_module_version": "1.5.0",
       "_model_name": "FloatProgressModel",
       "_view_count": null,
       "_view_module": "@jupyter-widgets/controls",
       "_view_module_version": "1.5.0",
       "_view_name": "ProgressView",
       "bar_style": "success",
       "description": "",
       "description_tooltip": null,
       "layout": "IPY_MODEL_c44ecee377b14a58913e1094371e3452",
       "max": 1042301,
       "min": 0,
       "orientation": "horizontal",
       "style": "IPY_MODEL_5816990de357499193ba09a20655a8cc",
       "value": 1042301
      }
     },
     "15ae84536d1649c69a1b2049ae466287": {
      "model_module": "@jupyter-widgets/base",
      "model_module_version": "1.2.0",
      "model_name": "LayoutModel",
      "state": {
       "_model_module": "@jupyter-widgets/base",
       "_model_module_version": "1.2.0",
       "_model_name": "LayoutModel",
       "_view_count": null,
       "_view_module": "@jupyter-widgets/base",
       "_view_module_version": "1.2.0",
       "_view_name": "LayoutView",
       "align_content": null,
       "align_items": null,
       "align_self": null,
       "border": null,
       "bottom": null,
       "display": null,
       "flex": null,
       "flex_flow": null,
       "grid_area": null,
       "grid_auto_columns": null,
       "grid_auto_flow": null,
       "grid_auto_rows": null,
       "grid_column": null,
       "grid_gap": null,
       "grid_row": null,
       "grid_template_areas": null,
       "grid_template_columns": null,
       "grid_template_rows": null,
       "height": null,
       "justify_content": null,
       "justify_items": null,
       "left": null,
       "margin": null,
       "max_height": null,
       "max_width": null,
       "min_height": null,
       "min_width": null,
       "object_fit": null,
       "object_position": null,
       "order": null,
       "overflow": null,
       "overflow_x": null,
       "overflow_y": null,
       "padding": null,
       "right": null,
       "top": null,
       "visibility": null,
       "width": null
      }
     },
     "1840b85e79c2472899d2a32e288fe150": {
      "model_module": "@jupyter-widgets/controls",
      "model_module_version": "1.5.0",
      "model_name": "HTMLModel",
      "state": {
       "_dom_classes": [],
       "_model_module": "@jupyter-widgets/controls",
       "_model_module_version": "1.5.0",
       "_model_name": "HTMLModel",
       "_view_count": null,
       "_view_module": "@jupyter-widgets/controls",
       "_view_module_version": "1.5.0",
       "_view_name": "HTMLView",
       "description": "",
       "description_tooltip": null,
       "layout": "IPY_MODEL_e77f11de63b1461081e60e5e7b5b99c7",
       "placeholder": "​",
       "style": "IPY_MODEL_d0b55b0120384a6ab41beb5fc5a7daad",
       "value": "model.safetensors: 100%"
      }
     },
     "1a4e09c8c57e4120bbd6b5738575b5a8": {
      "model_module": "@jupyter-widgets/controls",
      "model_module_version": "1.5.0",
      "model_name": "DescriptionStyleModel",
      "state": {
       "_model_module": "@jupyter-widgets/controls",
       "_model_module_version": "1.5.0",
       "_model_name": "DescriptionStyleModel",
       "_view_count": null,
       "_view_module": "@jupyter-widgets/base",
       "_view_module_version": "1.2.0",
       "_view_name": "StyleView",
       "description_width": ""
      }
     },
     "1b9bca039dd24161ba4e209bf4b86e91": {
      "model_module": "@jupyter-widgets/controls",
      "model_module_version": "1.5.0",
      "model_name": "FloatProgressModel",
      "state": {
       "_dom_classes": [],
       "_model_module": "@jupyter-widgets/controls",
       "_model_module_version": "1.5.0",
       "_model_name": "FloatProgressModel",
       "_view_count": null,
       "_view_module": "@jupyter-widgets/controls",
       "_view_module_version": "1.5.0",
       "_view_name": "ProgressView",
       "bar_style": "success",
       "description": "",
       "description_tooltip": null,
       "layout": "IPY_MODEL_e564dc047cd7454dacd1f8154036eb44",
       "max": 124,
       "min": 0,
       "orientation": "horizontal",
       "style": "IPY_MODEL_3688c8039957484a87620566456aae4b",
       "value": 124
      }
     },
     "1c95606baa3747d0b8dada1b10571a34": {
      "model_module": "@jupyter-widgets/base",
      "model_module_version": "1.2.0",
      "model_name": "LayoutModel",
      "state": {
       "_model_module": "@jupyter-widgets/base",
       "_model_module_version": "1.2.0",
       "_model_name": "LayoutModel",
       "_view_count": null,
       "_view_module": "@jupyter-widgets/base",
       "_view_module_version": "1.2.0",
       "_view_name": "LayoutView",
       "align_content": null,
       "align_items": null,
       "align_self": null,
       "border": null,
       "bottom": null,
       "display": null,
       "flex": null,
       "flex_flow": null,
       "grid_area": null,
       "grid_auto_columns": null,
       "grid_auto_flow": null,
       "grid_auto_rows": null,
       "grid_column": null,
       "grid_gap": null,
       "grid_row": null,
       "grid_template_areas": null,
       "grid_template_columns": null,
       "grid_template_rows": null,
       "height": null,
       "justify_content": null,
       "justify_items": null,
       "left": null,
       "margin": null,
       "max_height": null,
       "max_width": null,
       "min_height": null,
       "min_width": null,
       "object_fit": null,
       "object_position": null,
       "order": null,
       "overflow": null,
       "overflow_x": null,
       "overflow_y": null,
       "padding": null,
       "right": null,
       "top": null,
       "visibility": null,
       "width": null
      }
     },
     "1e9b60a67f754ebdbf7210b18f9292bb": {
      "model_module": "@jupyter-widgets/controls",
      "model_module_version": "1.5.0",
      "model_name": "HBoxModel",
      "state": {
       "_dom_classes": [],
       "_model_module": "@jupyter-widgets/controls",
       "_model_module_version": "1.5.0",
       "_model_name": "HBoxModel",
       "_view_count": null,
       "_view_module": "@jupyter-widgets/controls",
       "_view_module_version": "1.5.0",
       "_view_name": "HBoxView",
       "box_style": "",
       "children": [
        "IPY_MODEL_db11ea81439046d99162b8600ba357d8",
        "IPY_MODEL_dc787176ada547f69e26ab56e4e9c17d",
        "IPY_MODEL_ac9291b72e8c45dea08b55865e50c95e"
       ],
       "layout": "IPY_MODEL_f9ff44101bb64db1b8b78ec25e81b0d5"
      }
     },
     "1faa9fffe94b4ea6afce344688789092": {
      "model_module": "@jupyter-widgets/controls",
      "model_module_version": "1.5.0",
      "model_name": "ProgressStyleModel",
      "state": {
       "_model_module": "@jupyter-widgets/controls",
       "_model_module_version": "1.5.0",
       "_model_name": "ProgressStyleModel",
       "_view_count": null,
       "_view_module": "@jupyter-widgets/base",
       "_view_module_version": "1.2.0",
       "_view_name": "StyleView",
       "bar_color": null,
       "description_width": ""
      }
     },
     "2414b1e069904a189444fe5b6dd06908": {
      "model_module": "@jupyter-widgets/base",
      "model_module_version": "1.2.0",
      "model_name": "LayoutModel",
      "state": {
       "_model_module": "@jupyter-widgets/base",
       "_model_module_version": "1.2.0",
       "_model_name": "LayoutModel",
       "_view_count": null,
       "_view_module": "@jupyter-widgets/base",
       "_view_module_version": "1.2.0",
       "_view_name": "LayoutView",
       "align_content": null,
       "align_items": null,
       "align_self": null,
       "border": null,
       "bottom": null,
       "display": null,
       "flex": null,
       "flex_flow": null,
       "grid_area": null,
       "grid_auto_columns": null,
       "grid_auto_flow": null,
       "grid_auto_rows": null,
       "grid_column": null,
       "grid_gap": null,
       "grid_row": null,
       "grid_template_areas": null,
       "grid_template_columns": null,
       "grid_template_rows": null,
       "height": null,
       "justify_content": null,
       "justify_items": null,
       "left": null,
       "margin": null,
       "max_height": null,
       "max_width": null,
       "min_height": null,
       "min_width": null,
       "object_fit": null,
       "object_position": null,
       "order": null,
       "overflow": null,
       "overflow_x": null,
       "overflow_y": null,
       "padding": null,
       "right": null,
       "top": null,
       "visibility": null,
       "width": null
      }
     },
     "2502a1fa5e0544d1b619d4694c6513ab": {
      "model_module": "@jupyter-widgets/controls",
      "model_module_version": "1.5.0",
      "model_name": "ProgressStyleModel",
      "state": {
       "_model_module": "@jupyter-widgets/controls",
       "_model_module_version": "1.5.0",
       "_model_name": "ProgressStyleModel",
       "_view_count": null,
       "_view_module": "@jupyter-widgets/base",
       "_view_module_version": "1.2.0",
       "_view_name": "StyleView",
       "bar_color": null,
       "description_width": ""
      }
     },
     "265812c843e5438787c7fa0e3c51be01": {
      "model_module": "@jupyter-widgets/controls",
      "model_module_version": "1.5.0",
      "model_name": "FloatProgressModel",
      "state": {
       "_dom_classes": [],
       "_model_module": "@jupyter-widgets/controls",
       "_model_module_version": "1.5.0",
       "_model_name": "FloatProgressModel",
       "_view_count": null,
       "_view_module": "@jupyter-widgets/controls",
       "_view_module_version": "1.5.0",
       "_view_name": "ProgressView",
       "bar_style": "success",
       "description": "",
       "description_tooltip": null,
       "layout": "IPY_MODEL_400a55e8dd554b94b813bada555f7552",
       "max": 1355256,
       "min": 0,
       "orientation": "horizontal",
       "style": "IPY_MODEL_3044b095f1de437abee872449cd8829a",
       "value": 1355256
      }
     },
     "2f0610b236bf4d359275acb103cd792a": {
      "model_module": "@jupyter-widgets/controls",
      "model_module_version": "1.5.0",
      "model_name": "FloatProgressModel",
      "state": {
       "_dom_classes": [],
       "_model_module": "@jupyter-widgets/controls",
       "_model_module_version": "1.5.0",
       "_model_name": "FloatProgressModel",
       "_view_count": null,
       "_view_module": "@jupyter-widgets/controls",
       "_view_module_version": "1.5.0",
       "_view_name": "ProgressView",
       "bar_style": "success",
       "description": "",
       "description_tooltip": null,
       "layout": "IPY_MODEL_126974300337403ea7a4c1ed2a071ca4",
       "max": 1,
       "min": 0,
       "orientation": "horizontal",
       "style": "IPY_MODEL_96e82a31e6cf4ad895204ba31a483795",
       "value": 1
      }
     },
     "3044b095f1de437abee872449cd8829a": {
      "model_module": "@jupyter-widgets/controls",
      "model_module_version": "1.5.0",
      "model_name": "ProgressStyleModel",
      "state": {
       "_model_module": "@jupyter-widgets/controls",
       "_model_module_version": "1.5.0",
       "_model_name": "ProgressStyleModel",
       "_view_count": null,
       "_view_module": "@jupyter-widgets/base",
       "_view_module_version": "1.2.0",
       "_view_name": "StyleView",
       "bar_color": null,
       "description_width": ""
      }
     },
     "342de3071e4a44b39f3d62f01019eee0": {
      "model_module": "@jupyter-widgets/controls",
      "model_module_version": "1.5.0",
      "model_name": "DescriptionStyleModel",
      "state": {
       "_model_module": "@jupyter-widgets/controls",
       "_model_module_version": "1.5.0",
       "_model_name": "DescriptionStyleModel",
       "_view_count": null,
       "_view_module": "@jupyter-widgets/base",
       "_view_module_version": "1.2.0",
       "_view_name": "StyleView",
       "description_width": ""
      }
     },
     "3688c8039957484a87620566456aae4b": {
      "model_module": "@jupyter-widgets/controls",
      "model_module_version": "1.5.0",
      "model_name": "ProgressStyleModel",
      "state": {
       "_model_module": "@jupyter-widgets/controls",
       "_model_module_version": "1.5.0",
       "_model_name": "ProgressStyleModel",
       "_view_count": null,
       "_view_module": "@jupyter-widgets/base",
       "_view_module_version": "1.2.0",
       "_view_name": "StyleView",
       "bar_color": null,
       "description_width": ""
      }
     },
     "3e7f8f85549842d0bf772402eb3b002f": {
      "model_module": "@jupyter-widgets/base",
      "model_module_version": "1.2.0",
      "model_name": "LayoutModel",
      "state": {
       "_model_module": "@jupyter-widgets/base",
       "_model_module_version": "1.2.0",
       "_model_name": "LayoutModel",
       "_view_count": null,
       "_view_module": "@jupyter-widgets/base",
       "_view_module_version": "1.2.0",
       "_view_name": "LayoutView",
       "align_content": null,
       "align_items": null,
       "align_self": null,
       "border": null,
       "bottom": null,
       "display": null,
       "flex": null,
       "flex_flow": null,
       "grid_area": null,
       "grid_auto_columns": null,
       "grid_auto_flow": null,
       "grid_auto_rows": null,
       "grid_column": null,
       "grid_gap": null,
       "grid_row": null,
       "grid_template_areas": null,
       "grid_template_columns": null,
       "grid_template_rows": null,
       "height": null,
       "justify_content": null,
       "justify_items": null,
       "left": null,
       "margin": null,
       "max_height": null,
       "max_width": null,
       "min_height": null,
       "min_width": null,
       "object_fit": null,
       "object_position": null,
       "order": null,
       "overflow": null,
       "overflow_x": null,
       "overflow_y": null,
       "padding": null,
       "right": null,
       "top": null,
       "visibility": null,
       "width": null
      }
     },
     "3eaa2323abc64f9498e53da84667cb7f": {
      "model_module": "@jupyter-widgets/base",
      "model_module_version": "1.2.0",
      "model_name": "LayoutModel",
      "state": {
       "_model_module": "@jupyter-widgets/base",
       "_model_module_version": "1.2.0",
       "_model_name": "LayoutModel",
       "_view_count": null,
       "_view_module": "@jupyter-widgets/base",
       "_view_module_version": "1.2.0",
       "_view_name": "LayoutView",
       "align_content": null,
       "align_items": null,
       "align_self": null,
       "border": null,
       "bottom": null,
       "display": null,
       "flex": null,
       "flex_flow": null,
       "grid_area": null,
       "grid_auto_columns": null,
       "grid_auto_flow": null,
       "grid_auto_rows": null,
       "grid_column": null,
       "grid_gap": null,
       "grid_row": null,
       "grid_template_areas": null,
       "grid_template_columns": null,
       "grid_template_rows": null,
       "height": null,
       "justify_content": null,
       "justify_items": null,
       "left": null,
       "margin": null,
       "max_height": null,
       "max_width": null,
       "min_height": null,
       "min_width": null,
       "object_fit": null,
       "object_position": null,
       "order": null,
       "overflow": null,
       "overflow_x": null,
       "overflow_y": null,
       "padding": null,
       "right": null,
       "top": null,
       "visibility": null,
       "width": null
      }
     },
     "3ff2b590b38d48deaba303e016b8a200": {
      "model_module": "@jupyter-widgets/controls",
      "model_module_version": "1.5.0",
      "model_name": "DescriptionStyleModel",
      "state": {
       "_model_module": "@jupyter-widgets/controls",
       "_model_module_version": "1.5.0",
       "_model_name": "DescriptionStyleModel",
       "_view_count": null,
       "_view_module": "@jupyter-widgets/base",
       "_view_module_version": "1.2.0",
       "_view_name": "StyleView",
       "description_width": ""
      }
     },
     "400a55e8dd554b94b813bada555f7552": {
      "model_module": "@jupyter-widgets/base",
      "model_module_version": "1.2.0",
      "model_name": "LayoutModel",
      "state": {
       "_model_module": "@jupyter-widgets/base",
       "_model_module_version": "1.2.0",
       "_model_name": "LayoutModel",
       "_view_count": null,
       "_view_module": "@jupyter-widgets/base",
       "_view_module_version": "1.2.0",
       "_view_name": "LayoutView",
       "align_content": null,
       "align_items": null,
       "align_self": null,
       "border": null,
       "bottom": null,
       "display": null,
       "flex": null,
       "flex_flow": null,
       "grid_area": null,
       "grid_auto_columns": null,
       "grid_auto_flow": null,
       "grid_auto_rows": null,
       "grid_column": null,
       "grid_gap": null,
       "grid_row": null,
       "grid_template_areas": null,
       "grid_template_columns": null,
       "grid_template_rows": null,
       "height": null,
       "justify_content": null,
       "justify_items": null,
       "left": null,
       "margin": null,
       "max_height": null,
       "max_width": null,
       "min_height": null,
       "min_width": null,
       "object_fit": null,
       "object_position": null,
       "order": null,
       "overflow": null,
       "overflow_x": null,
       "overflow_y": null,
       "padding": null,
       "right": null,
       "top": null,
       "visibility": null,
       "width": null
      }
     },
     "42576cd4b9644fb8b574130083ffb0f3": {
      "model_module": "@jupyter-widgets/base",
      "model_module_version": "1.2.0",
      "model_name": "LayoutModel",
      "state": {
       "_model_module": "@jupyter-widgets/base",
       "_model_module_version": "1.2.0",
       "_model_name": "LayoutModel",
       "_view_count": null,
       "_view_module": "@jupyter-widgets/base",
       "_view_module_version": "1.2.0",
       "_view_name": "LayoutView",
       "align_content": null,
       "align_items": null,
       "align_self": null,
       "border": null,
       "bottom": null,
       "display": null,
       "flex": null,
       "flex_flow": null,
       "grid_area": null,
       "grid_auto_columns": null,
       "grid_auto_flow": null,
       "grid_auto_rows": null,
       "grid_column": null,
       "grid_gap": null,
       "grid_row": null,
       "grid_template_areas": null,
       "grid_template_columns": null,
       "grid_template_rows": null,
       "height": null,
       "justify_content": null,
       "justify_items": null,
       "left": null,
       "margin": null,
       "max_height": null,
       "max_width": null,
       "min_height": null,
       "min_width": null,
       "object_fit": null,
       "object_position": null,
       "order": null,
       "overflow": null,
       "overflow_x": null,
       "overflow_y": null,
       "padding": null,
       "right": null,
       "top": null,
       "visibility": null,
       "width": null
      }
     },
     "43466dc369224107b6acc3fb15b497ff": {
      "model_module": "@jupyter-widgets/controls",
      "model_module_version": "1.5.0",
      "model_name": "DescriptionStyleModel",
      "state": {
       "_model_module": "@jupyter-widgets/controls",
       "_model_module_version": "1.5.0",
       "_model_name": "DescriptionStyleModel",
       "_view_count": null,
       "_view_module": "@jupyter-widgets/base",
       "_view_module_version": "1.2.0",
       "_view_name": "StyleView",
       "description_width": ""
      }
     },
     "43ea223cd33c429aaa5cfe497d76300d": {
      "model_module": "@jupyter-widgets/controls",
      "model_module_version": "1.5.0",
      "model_name": "FloatProgressModel",
      "state": {
       "_dom_classes": [],
       "_model_module": "@jupyter-widgets/controls",
       "_model_module_version": "1.5.0",
       "_model_name": "FloatProgressModel",
       "_view_count": null,
       "_view_module": "@jupyter-widgets/controls",
       "_view_module_version": "1.5.0",
       "_view_name": "ProgressView",
       "bar_style": "success",
       "description": "",
       "description_tooltip": null,
       "layout": "IPY_MODEL_109490f3ffb545af900ed223d4c551f8",
       "max": 456318,
       "min": 0,
       "orientation": "horizontal",
       "style": "IPY_MODEL_6e60a4d049ab4a78b457bce8faef6f80",
       "value": 456318
      }
     },
     "464a48d7a0f94fee98855ccd2fb60ad4": {
      "model_module": "@jupyter-widgets/controls",
      "model_module_version": "1.5.0",
      "model_name": "DescriptionStyleModel",
      "state": {
       "_model_module": "@jupyter-widgets/controls",
       "_model_module_version": "1.5.0",
       "_model_name": "DescriptionStyleModel",
       "_view_count": null,
       "_view_module": "@jupyter-widgets/base",
       "_view_module_version": "1.2.0",
       "_view_name": "StyleView",
       "description_width": ""
      }
     },
     "47e9b81cba3648e79b22a84944d24f7b": {
      "model_module": "@jupyter-widgets/controls",
      "model_module_version": "1.5.0",
      "model_name": "HTMLModel",
      "state": {
       "_dom_classes": [],
       "_model_module": "@jupyter-widgets/controls",
       "_model_module_version": "1.5.0",
       "_model_name": "HTMLModel",
       "_view_count": null,
       "_view_module": "@jupyter-widgets/controls",
       "_view_module_version": "1.5.0",
       "_view_name": "HTMLView",
       "description": "",
       "description_tooltip": null,
       "layout": "IPY_MODEL_1c95606baa3747d0b8dada1b10571a34",
       "placeholder": "​",
       "style": "IPY_MODEL_43466dc369224107b6acc3fb15b497ff",
       "value": "tokenizer_config.json: 100%"
      }
     },
     "484c654378ab471d87194360ad5942bc": {
      "model_module": "@jupyter-widgets/controls",
      "model_module_version": "1.5.0",
      "model_name": "DescriptionStyleModel",
      "state": {
       "_model_module": "@jupyter-widgets/controls",
       "_model_module_version": "1.5.0",
       "_model_name": "DescriptionStyleModel",
       "_view_count": null,
       "_view_module": "@jupyter-widgets/base",
       "_view_module_version": "1.2.0",
       "_view_name": "StyleView",
       "description_width": ""
      }
     },
     "48ed13a1356d4d0ab27a0dbad3a6d40e": {
      "model_module": "@jupyter-widgets/controls",
      "model_module_version": "1.5.0",
      "model_name": "HTMLModel",
      "state": {
       "_dom_classes": [],
       "_model_module": "@jupyter-widgets/controls",
       "_model_module_version": "1.5.0",
       "_model_name": "HTMLModel",
       "_view_count": null,
       "_view_module": "@jupyter-widgets/controls",
       "_view_module_version": "1.5.0",
       "_view_name": "HTMLView",
       "description": "",
       "description_tooltip": null,
       "layout": "IPY_MODEL_80a046b492fb42e08a9500accd38c9a1",
       "placeholder": "​",
       "style": "IPY_MODEL_464a48d7a0f94fee98855ccd2fb60ad4",
       "value": "Computing checksums: 100%"
      }
     },
     "49b5b0771a154311b0781e8debeff162": {
      "model_module": "@jupyter-widgets/controls",
      "model_module_version": "1.5.0",
      "model_name": "HTMLModel",
      "state": {
       "_dom_classes": [],
       "_model_module": "@jupyter-widgets/controls",
       "_model_module_version": "1.5.0",
       "_model_name": "HTMLModel",
       "_view_count": null,
       "_view_module": "@jupyter-widgets/controls",
       "_view_module_version": "1.5.0",
       "_view_name": "HTMLView",
       "description": "",
       "description_tooltip": null,
       "layout": "IPY_MODEL_95f6246c6b72462d87b5c4c042eb16a8",
       "placeholder": "​",
       "style": "IPY_MODEL_c79d9e61813347ec9aadbf4a0cfc5996",
       "value": "vocab.json: 100%"
      }
     },
     "4a28308f4cda4c2ebddf93235d6ba55f": {
      "model_module": "@jupyter-widgets/controls",
      "model_module_version": "1.5.0",
      "model_name": "DescriptionStyleModel",
      "state": {
       "_model_module": "@jupyter-widgets/controls",
       "_model_module_version": "1.5.0",
       "_model_name": "DescriptionStyleModel",
       "_view_count": null,
       "_view_module": "@jupyter-widgets/base",
       "_view_module_version": "1.2.0",
       "_view_name": "StyleView",
       "description_width": ""
      }
     },
     "4cebbe5b80f14734958b0ac6258d1be9": {
      "model_module": "@jupyter-widgets/base",
      "model_module_version": "1.2.0",
      "model_name": "LayoutModel",
      "state": {
       "_model_module": "@jupyter-widgets/base",
       "_model_module_version": "1.2.0",
       "_model_name": "LayoutModel",
       "_view_count": null,
       "_view_module": "@jupyter-widgets/base",
       "_view_module_version": "1.2.0",
       "_view_name": "LayoutView",
       "align_content": null,
       "align_items": null,
       "align_self": null,
       "border": null,
       "bottom": null,
       "display": null,
       "flex": null,
       "flex_flow": null,
       "grid_area": null,
       "grid_auto_columns": null,
       "grid_auto_flow": null,
       "grid_auto_rows": null,
       "grid_column": null,
       "grid_gap": null,
       "grid_row": null,
       "grid_template_areas": null,
       "grid_template_columns": null,
       "grid_template_rows": null,
       "height": null,
       "justify_content": null,
       "justify_items": null,
       "left": null,
       "margin": null,
       "max_height": null,
       "max_width": null,
       "min_height": null,
       "min_width": null,
       "object_fit": null,
       "object_position": null,
       "order": null,
       "overflow": null,
       "overflow_x": null,
       "overflow_y": null,
       "padding": null,
       "right": null,
       "top": null,
       "visibility": null,
       "width": null
      }
     },
     "5816990de357499193ba09a20655a8cc": {
      "model_module": "@jupyter-widgets/controls",
      "model_module_version": "1.5.0",
      "model_name": "ProgressStyleModel",
      "state": {
       "_model_module": "@jupyter-widgets/controls",
       "_model_module_version": "1.5.0",
       "_model_name": "ProgressStyleModel",
       "_view_count": null,
       "_view_module": "@jupyter-widgets/base",
       "_view_module_version": "1.2.0",
       "_view_name": "StyleView",
       "bar_color": null,
       "description_width": ""
      }
     },
     "59312b5f896445b784c8202f649b1c51": {
      "model_module": "@jupyter-widgets/controls",
      "model_module_version": "1.5.0",
      "model_name": "DescriptionStyleModel",
      "state": {
       "_model_module": "@jupyter-widgets/controls",
       "_model_module_version": "1.5.0",
       "_model_name": "DescriptionStyleModel",
       "_view_count": null,
       "_view_module": "@jupyter-widgets/base",
       "_view_module_version": "1.2.0",
       "_view_name": "StyleView",
       "description_width": ""
      }
     },
     "61fcb0bb67594c6eb6529b0e4529a990": {
      "model_module": "@jupyter-widgets/controls",
      "model_module_version": "1.5.0",
      "model_name": "HBoxModel",
      "state": {
       "_dom_classes": [],
       "_model_module": "@jupyter-widgets/controls",
       "_model_module_version": "1.5.0",
       "_model_name": "HBoxModel",
       "_view_count": null,
       "_view_module": "@jupyter-widgets/controls",
       "_view_module_version": "1.5.0",
       "_view_name": "HBoxView",
       "box_style": "",
       "children": [
        "IPY_MODEL_f83f27e57c6c4a99a1046ec074abbba5",
        "IPY_MODEL_1b9bca039dd24161ba4e209bf4b86e91",
        "IPY_MODEL_9b3f18b82ccb4ea795a95146a08947ef"
       ],
       "layout": "IPY_MODEL_b438b6a6efff465083dd798ca635316e"
      }
     },
     "6505216dbee24aa49fcbfd759db3de28": {
      "model_module": "@jupyter-widgets/controls",
      "model_module_version": "1.5.0",
      "model_name": "DescriptionStyleModel",
      "state": {
       "_model_module": "@jupyter-widgets/controls",
       "_model_module_version": "1.5.0",
       "_model_name": "DescriptionStyleModel",
       "_view_count": null,
       "_view_module": "@jupyter-widgets/base",
       "_view_module_version": "1.2.0",
       "_view_name": "StyleView",
       "description_width": ""
      }
     },
     "6510cdcf86044470a1a67134a6c31d54": {
      "model_module": "@jupyter-widgets/base",
      "model_module_version": "1.2.0",
      "model_name": "LayoutModel",
      "state": {
       "_model_module": "@jupyter-widgets/base",
       "_model_module_version": "1.2.0",
       "_model_name": "LayoutModel",
       "_view_count": null,
       "_view_module": "@jupyter-widgets/base",
       "_view_module_version": "1.2.0",
       "_view_name": "LayoutView",
       "align_content": null,
       "align_items": null,
       "align_self": null,
       "border": null,
       "bottom": null,
       "display": null,
       "flex": null,
       "flex_flow": null,
       "grid_area": null,
       "grid_auto_columns": null,
       "grid_auto_flow": null,
       "grid_auto_rows": null,
       "grid_column": null,
       "grid_gap": null,
       "grid_row": null,
       "grid_template_areas": null,
       "grid_template_columns": null,
       "grid_template_rows": null,
       "height": null,
       "justify_content": null,
       "justify_items": null,
       "left": null,
       "margin": null,
       "max_height": null,
       "max_width": null,
       "min_height": null,
       "min_width": null,
       "object_fit": null,
       "object_position": null,
       "order": null,
       "overflow": null,
       "overflow_x": null,
       "overflow_y": null,
       "padding": null,
       "right": null,
       "top": null,
       "visibility": null,
       "width": null
      }
     },
     "66de966d7dc046d1b0e32f2d8f1f9191": {
      "model_module": "@jupyter-widgets/base",
      "model_module_version": "1.2.0",
      "model_name": "LayoutModel",
      "state": {
       "_model_module": "@jupyter-widgets/base",
       "_model_module_version": "1.2.0",
       "_model_name": "LayoutModel",
       "_view_count": null,
       "_view_module": "@jupyter-widgets/base",
       "_view_module_version": "1.2.0",
       "_view_name": "LayoutView",
       "align_content": null,
       "align_items": null,
       "align_self": null,
       "border": null,
       "bottom": null,
       "display": null,
       "flex": null,
       "flex_flow": null,
       "grid_area": null,
       "grid_auto_columns": null,
       "grid_auto_flow": null,
       "grid_auto_rows": null,
       "grid_column": null,
       "grid_gap": null,
       "grid_row": null,
       "grid_template_areas": null,
       "grid_template_columns": null,
       "grid_template_rows": null,
       "height": null,
       "justify_content": null,
       "justify_items": null,
       "left": null,
       "margin": null,
       "max_height": null,
       "max_width": null,
       "min_height": null,
       "min_width": null,
       "object_fit": null,
       "object_position": null,
       "order": null,
       "overflow": null,
       "overflow_x": null,
       "overflow_y": null,
       "padding": null,
       "right": null,
       "top": null,
       "visibility": null,
       "width": null
      }
     },
     "675ea384638042cf8c6010d348aa6de3": {
      "model_module": "@jupyter-widgets/base",
      "model_module_version": "1.2.0",
      "model_name": "LayoutModel",
      "state": {
       "_model_module": "@jupyter-widgets/base",
       "_model_module_version": "1.2.0",
       "_model_name": "LayoutModel",
       "_view_count": null,
       "_view_module": "@jupyter-widgets/base",
       "_view_module_version": "1.2.0",
       "_view_name": "LayoutView",
       "align_content": null,
       "align_items": null,
       "align_self": null,
       "border": null,
       "bottom": null,
       "display": null,
       "flex": null,
       "flex_flow": null,
       "grid_area": null,
       "grid_auto_columns": null,
       "grid_auto_flow": null,
       "grid_auto_rows": null,
       "grid_column": null,
       "grid_gap": null,
       "grid_row": null,
       "grid_template_areas": null,
       "grid_template_columns": null,
       "grid_template_rows": null,
       "height": null,
       "justify_content": null,
       "justify_items": null,
       "left": null,
       "margin": null,
       "max_height": null,
       "max_width": null,
       "min_height": null,
       "min_width": null,
       "object_fit": null,
       "object_position": null,
       "order": null,
       "overflow": null,
       "overflow_x": null,
       "overflow_y": null,
       "padding": null,
       "right": null,
       "top": null,
       "visibility": null,
       "width": null
      }
     },
     "6830deb4d03e48b1a10376ebe32c99a7": {
      "model_module": "@jupyter-widgets/controls",
      "model_module_version": "1.5.0",
      "model_name": "HTMLModel",
      "state": {
       "_dom_classes": [],
       "_model_module": "@jupyter-widgets/controls",
       "_model_module_version": "1.5.0",
       "_model_name": "HTMLModel",
       "_view_count": null,
       "_view_module": "@jupyter-widgets/controls",
       "_view_module_version": "1.5.0",
       "_view_name": "HTMLView",
       "description": "",
       "description_tooltip": null,
       "layout": "IPY_MODEL_751a7345d6c64a3189bb16f59a2e3b81",
       "placeholder": "​",
       "style": "IPY_MODEL_dfecde1ad51f41c984c74bde6ea61c15",
       "value": "tokenizer.json: 100%"
      }
     },
     "69730001a10745baac34fe869d3445f3": {
      "model_module": "@jupyter-widgets/base",
      "model_module_version": "1.2.0",
      "model_name": "LayoutModel",
      "state": {
       "_model_module": "@jupyter-widgets/base",
       "_model_module_version": "1.2.0",
       "_model_name": "LayoutModel",
       "_view_count": null,
       "_view_module": "@jupyter-widgets/base",
       "_view_module_version": "1.2.0",
       "_view_name": "LayoutView",
       "align_content": null,
       "align_items": null,
       "align_self": null,
       "border": null,
       "bottom": null,
       "display": null,
       "flex": null,
       "flex_flow": null,
       "grid_area": null,
       "grid_auto_columns": null,
       "grid_auto_flow": null,
       "grid_auto_rows": null,
       "grid_column": null,
       "grid_gap": null,
       "grid_row": null,
       "grid_template_areas": null,
       "grid_template_columns": null,
       "grid_template_rows": null,
       "height": null,
       "justify_content": null,
       "justify_items": null,
       "left": null,
       "margin": null,
       "max_height": null,
       "max_width": null,
       "min_height": null,
       "min_width": null,
       "object_fit": null,
       "object_position": null,
       "order": null,
       "overflow": null,
       "overflow_x": null,
       "overflow_y": null,
       "padding": null,
       "right": null,
       "top": null,
       "visibility": null,
       "width": null
      }
     },
     "6a44ff3d25e246f2865d1edc1601e59f": {
      "model_module": "@jupyter-widgets/controls",
      "model_module_version": "1.5.0",
      "model_name": "HTMLModel",
      "state": {
       "_dom_classes": [],
       "_model_module": "@jupyter-widgets/controls",
       "_model_module_version": "1.5.0",
       "_model_name": "HTMLModel",
       "_view_count": null,
       "_view_module": "@jupyter-widgets/controls",
       "_view_module_version": "1.5.0",
       "_view_name": "HTMLView",
       "description": "",
       "description_tooltip": null,
       "layout": "IPY_MODEL_f299110245914b9599cae96646458dc8",
       "placeholder": "​",
       "style": "IPY_MODEL_59312b5f896445b784c8202f649b1c51",
       "value": " 456k/456k [00:00&lt;00:00, 10.6MB/s]"
      }
     },
     "6e60a4d049ab4a78b457bce8faef6f80": {
      "model_module": "@jupyter-widgets/controls",
      "model_module_version": "1.5.0",
      "model_name": "ProgressStyleModel",
      "state": {
       "_model_module": "@jupyter-widgets/controls",
       "_model_module_version": "1.5.0",
       "_model_name": "ProgressStyleModel",
       "_view_count": null,
       "_view_module": "@jupyter-widgets/base",
       "_view_module_version": "1.2.0",
       "_view_name": "StyleView",
       "bar_color": null,
       "description_width": ""
      }
     },
     "751a7345d6c64a3189bb16f59a2e3b81": {
      "model_module": "@jupyter-widgets/base",
      "model_module_version": "1.2.0",
      "model_name": "LayoutModel",
      "state": {
       "_model_module": "@jupyter-widgets/base",
       "_model_module_version": "1.2.0",
       "_model_name": "LayoutModel",
       "_view_count": null,
       "_view_module": "@jupyter-widgets/base",
       "_view_module_version": "1.2.0",
       "_view_name": "LayoutView",
       "align_content": null,
       "align_items": null,
       "align_self": null,
       "border": null,
       "bottom": null,
       "display": null,
       "flex": null,
       "flex_flow": null,
       "grid_area": null,
       "grid_auto_columns": null,
       "grid_auto_flow": null,
       "grid_auto_rows": null,
       "grid_column": null,
       "grid_gap": null,
       "grid_row": null,
       "grid_template_areas": null,
       "grid_template_columns": null,
       "grid_template_rows": null,
       "height": null,
       "justify_content": null,
       "justify_items": null,
       "left": null,
       "margin": null,
       "max_height": null,
       "max_width": null,
       "min_height": null,
       "min_width": null,
       "object_fit": null,
       "object_position": null,
       "order": null,
       "overflow": null,
       "overflow_x": null,
       "overflow_y": null,
       "padding": null,
       "right": null,
       "top": null,
       "visibility": null,
       "width": null
      }
     },
     "766f45fa85b747558f95a40bbcbae816": {
      "model_module": "@jupyter-widgets/controls",
      "model_module_version": "1.5.0",
      "model_name": "HTMLModel",
      "state": {
       "_dom_classes": [],
       "_model_module": "@jupyter-widgets/controls",
       "_model_module_version": "1.5.0",
       "_model_name": "HTMLModel",
       "_view_count": null,
       "_view_module": "@jupyter-widgets/controls",
       "_view_module_version": "1.5.0",
       "_view_name": "HTMLView",
       "description": "",
       "description_tooltip": null,
       "layout": "IPY_MODEL_08c0c62c46c8463c95ae726cd839b0c9",
       "placeholder": "​",
       "style": "IPY_MODEL_3ff2b590b38d48deaba303e016b8a200",
       "value": "Map: 100%"
      }
     },
     "771f429cfc4f4729973bc69850b59dc5": {
      "model_module": "@jupyter-widgets/base",
      "model_module_version": "1.2.0",
      "model_name": "LayoutModel",
      "state": {
       "_model_module": "@jupyter-widgets/base",
       "_model_module_version": "1.2.0",
       "_model_name": "LayoutModel",
       "_view_count": null,
       "_view_module": "@jupyter-widgets/base",
       "_view_module_version": "1.2.0",
       "_view_name": "LayoutView",
       "align_content": null,
       "align_items": null,
       "align_self": null,
       "border": null,
       "bottom": null,
       "display": null,
       "flex": null,
       "flex_flow": null,
       "grid_area": null,
       "grid_auto_columns": null,
       "grid_auto_flow": null,
       "grid_auto_rows": null,
       "grid_column": null,
       "grid_gap": null,
       "grid_row": null,
       "grid_template_areas": null,
       "grid_template_columns": null,
       "grid_template_rows": null,
       "height": null,
       "justify_content": null,
       "justify_items": null,
       "left": null,
       "margin": null,
       "max_height": null,
       "max_width": null,
       "min_height": null,
       "min_width": null,
       "object_fit": null,
       "object_position": null,
       "order": null,
       "overflow": null,
       "overflow_x": null,
       "overflow_y": null,
       "padding": null,
       "right": null,
       "top": null,
       "visibility": null,
       "width": null
      }
     },
     "7e61bcad104b45c08ecd8c5c271c1231": {
      "model_module": "@jupyter-widgets/controls",
      "model_module_version": "1.5.0",
      "model_name": "HTMLModel",
      "state": {
       "_dom_classes": [],
       "_model_module": "@jupyter-widgets/controls",
       "_model_module_version": "1.5.0",
       "_model_name": "HTMLModel",
       "_view_count": null,
       "_view_module": "@jupyter-widgets/controls",
       "_view_module_version": "1.5.0",
       "_view_name": "HTMLView",
       "description": "",
       "description_tooltip": null,
       "layout": "IPY_MODEL_4cebbe5b80f14734958b0ac6258d1be9",
       "placeholder": "​",
       "style": "IPY_MODEL_484c654378ab471d87194360ad5942bc",
       "value": " 548M/548M [00:02&lt;00:00, 261MB/s]"
      }
     },
     "80a046b492fb42e08a9500accd38c9a1": {
      "model_module": "@jupyter-widgets/base",
      "model_module_version": "1.2.0",
      "model_name": "LayoutModel",
      "state": {
       "_model_module": "@jupyter-widgets/base",
       "_model_module_version": "1.2.0",
       "_model_name": "LayoutModel",
       "_view_count": null,
       "_view_module": "@jupyter-widgets/base",
       "_view_module_version": "1.2.0",
       "_view_name": "LayoutView",
       "align_content": null,
       "align_items": null,
       "align_self": null,
       "border": null,
       "bottom": null,
       "display": null,
       "flex": null,
       "flex_flow": null,
       "grid_area": null,
       "grid_auto_columns": null,
       "grid_auto_flow": null,
       "grid_auto_rows": null,
       "grid_column": null,
       "grid_gap": null,
       "grid_row": null,
       "grid_template_areas": null,
       "grid_template_columns": null,
       "grid_template_rows": null,
       "height": null,
       "justify_content": null,
       "justify_items": null,
       "left": null,
       "margin": null,
       "max_height": null,
       "max_width": null,
       "min_height": null,
       "min_width": null,
       "object_fit": null,
       "object_position": null,
       "order": null,
       "overflow": null,
       "overflow_x": null,
       "overflow_y": null,
       "padding": null,
       "right": null,
       "top": null,
       "visibility": null,
       "width": null
      }
     },
     "80ccf08b906c4fdf9785d04978749ee8": {
      "model_module": "@jupyter-widgets/controls",
      "model_module_version": "1.5.0",
      "model_name": "HBoxModel",
      "state": {
       "_dom_classes": [],
       "_model_module": "@jupyter-widgets/controls",
       "_model_module_version": "1.5.0",
       "_model_name": "HBoxModel",
       "_view_count": null,
       "_view_module": "@jupyter-widgets/controls",
       "_view_module_version": "1.5.0",
       "_view_name": "HBoxView",
       "box_style": "",
       "children": [
        "IPY_MODEL_49b5b0771a154311b0781e8debeff162",
        "IPY_MODEL_137d7708f0ea414686c054b033483775",
        "IPY_MODEL_0b11500e3f1e429eba79ebea6f46c3fd"
       ],
       "layout": "IPY_MODEL_f35bc4ee8dc6400b9450d929e1dc71c6"
      }
     },
     "820619a0b439472496492bccea89f267": {
      "model_module": "@jupyter-widgets/controls",
      "model_module_version": "1.5.0",
      "model_name": "DescriptionStyleModel",
      "state": {
       "_model_module": "@jupyter-widgets/controls",
       "_model_module_version": "1.5.0",
       "_model_name": "DescriptionStyleModel",
       "_view_count": null,
       "_view_module": "@jupyter-widgets/base",
       "_view_module_version": "1.2.0",
       "_view_name": "StyleView",
       "description_width": ""
      }
     },
     "844f5eb4c98f43f0a428d7efda6e8440": {
      "model_module": "@jupyter-widgets/base",
      "model_module_version": "1.2.0",
      "model_name": "LayoutModel",
      "state": {
       "_model_module": "@jupyter-widgets/base",
       "_model_module_version": "1.2.0",
       "_model_name": "LayoutModel",
       "_view_count": null,
       "_view_module": "@jupyter-widgets/base",
       "_view_module_version": "1.2.0",
       "_view_name": "LayoutView",
       "align_content": null,
       "align_items": null,
       "align_self": null,
       "border": null,
       "bottom": null,
       "display": null,
       "flex": null,
       "flex_flow": null,
       "grid_area": null,
       "grid_auto_columns": null,
       "grid_auto_flow": null,
       "grid_auto_rows": null,
       "grid_column": null,
       "grid_gap": null,
       "grid_row": null,
       "grid_template_areas": null,
       "grid_template_columns": null,
       "grid_template_rows": null,
       "height": null,
       "justify_content": null,
       "justify_items": null,
       "left": null,
       "margin": null,
       "max_height": null,
       "max_width": null,
       "min_height": null,
       "min_width": null,
       "object_fit": null,
       "object_position": null,
       "order": null,
       "overflow": null,
       "overflow_x": null,
       "overflow_y": null,
       "padding": null,
       "right": null,
       "top": null,
       "visibility": null,
       "width": null
      }
     },
     "84514ea7b872406baebc3de516a2d142": {
      "model_module": "@jupyter-widgets/controls",
      "model_module_version": "1.5.0",
      "model_name": "HBoxModel",
      "state": {
       "_dom_classes": [],
       "_model_module": "@jupyter-widgets/controls",
       "_model_module_version": "1.5.0",
       "_model_name": "HBoxModel",
       "_view_count": null,
       "_view_module": "@jupyter-widgets/controls",
       "_view_module_version": "1.5.0",
       "_view_name": "HBoxView",
       "box_style": "",
       "children": [
        "IPY_MODEL_766f45fa85b747558f95a40bbcbae816",
        "IPY_MODEL_b7700744f426495da22cfde3cefe5b7c",
        "IPY_MODEL_a4abf27009164296a2649c79e79ae731"
       ],
       "layout": "IPY_MODEL_2414b1e069904a189444fe5b6dd06908"
      }
     },
     "8b213892835846549007ba456c0fbee3": {
      "model_module": "@jupyter-widgets/base",
      "model_module_version": "1.2.0",
      "model_name": "LayoutModel",
      "state": {
       "_model_module": "@jupyter-widgets/base",
       "_model_module_version": "1.2.0",
       "_model_name": "LayoutModel",
       "_view_count": null,
       "_view_module": "@jupyter-widgets/base",
       "_view_module_version": "1.2.0",
       "_view_name": "LayoutView",
       "align_content": null,
       "align_items": null,
       "align_self": null,
       "border": null,
       "bottom": null,
       "display": null,
       "flex": null,
       "flex_flow": null,
       "grid_area": null,
       "grid_auto_columns": null,
       "grid_auto_flow": null,
       "grid_auto_rows": null,
       "grid_column": null,
       "grid_gap": null,
       "grid_row": null,
       "grid_template_areas": null,
       "grid_template_columns": null,
       "grid_template_rows": null,
       "height": null,
       "justify_content": null,
       "justify_items": null,
       "left": null,
       "margin": null,
       "max_height": null,
       "max_width": null,
       "min_height": null,
       "min_width": null,
       "object_fit": null,
       "object_position": null,
       "order": null,
       "overflow": null,
       "overflow_x": null,
       "overflow_y": null,
       "padding": null,
       "right": null,
       "top": null,
       "visibility": null,
       "width": null
      }
     },
     "8fad78f190a94c74ab601a1266ec4029": {
      "model_module": "@jupyter-widgets/controls",
      "model_module_version": "1.5.0",
      "model_name": "FloatProgressModel",
      "state": {
       "_dom_classes": [],
       "_model_module": "@jupyter-widgets/controls",
       "_model_module_version": "1.5.0",
       "_model_name": "FloatProgressModel",
       "_view_count": null,
       "_view_module": "@jupyter-widgets/controls",
       "_view_module_version": "1.5.0",
       "_view_name": "ProgressView",
       "bar_style": "success",
       "description": "",
       "description_tooltip": null,
       "layout": "IPY_MODEL_904f7394237b4e50b8f0cb356eb8eca8",
       "max": 548105171,
       "min": 0,
       "orientation": "horizontal",
       "style": "IPY_MODEL_ec4647b53ea944cf9688d10a5731717c",
       "value": 548105171
      }
     },
     "904f7394237b4e50b8f0cb356eb8eca8": {
      "model_module": "@jupyter-widgets/base",
      "model_module_version": "1.2.0",
      "model_name": "LayoutModel",
      "state": {
       "_model_module": "@jupyter-widgets/base",
       "_model_module_version": "1.2.0",
       "_model_name": "LayoutModel",
       "_view_count": null,
       "_view_module": "@jupyter-widgets/base",
       "_view_module_version": "1.2.0",
       "_view_name": "LayoutView",
       "align_content": null,
       "align_items": null,
       "align_self": null,
       "border": null,
       "bottom": null,
       "display": null,
       "flex": null,
       "flex_flow": null,
       "grid_area": null,
       "grid_auto_columns": null,
       "grid_auto_flow": null,
       "grid_auto_rows": null,
       "grid_column": null,
       "grid_gap": null,
       "grid_row": null,
       "grid_template_areas": null,
       "grid_template_columns": null,
       "grid_template_rows": null,
       "height": null,
       "justify_content": null,
       "justify_items": null,
       "left": null,
       "margin": null,
       "max_height": null,
       "max_width": null,
       "min_height": null,
       "min_width": null,
       "object_fit": null,
       "object_position": null,
       "order": null,
       "overflow": null,
       "overflow_x": null,
       "overflow_y": null,
       "padding": null,
       "right": null,
       "top": null,
       "visibility": null,
       "width": null
      }
     },
     "90a7caf8fff642fe802995f6f87d207d": {
      "model_module": "@jupyter-widgets/controls",
      "model_module_version": "1.5.0",
      "model_name": "HTMLModel",
      "state": {
       "_dom_classes": [],
       "_model_module": "@jupyter-widgets/controls",
       "_model_module_version": "1.5.0",
       "_model_name": "HTMLModel",
       "_view_count": null,
       "_view_module": "@jupyter-widgets/controls",
       "_view_module_version": "1.5.0",
       "_view_name": "HTMLView",
       "description": "",
       "description_tooltip": null,
       "layout": "IPY_MODEL_66de966d7dc046d1b0e32f2d8f1f9191",
       "placeholder": "​",
       "style": "IPY_MODEL_1a4e09c8c57e4120bbd6b5738575b5a8",
       "value": "config.json: 100%"
      }
     },
     "95f6246c6b72462d87b5c4c042eb16a8": {
      "model_module": "@jupyter-widgets/base",
      "model_module_version": "1.2.0",
      "model_name": "LayoutModel",
      "state": {
       "_model_module": "@jupyter-widgets/base",
       "_model_module_version": "1.2.0",
       "_model_name": "LayoutModel",
       "_view_count": null,
       "_view_module": "@jupyter-widgets/base",
       "_view_module_version": "1.2.0",
       "_view_name": "LayoutView",
       "align_content": null,
       "align_items": null,
       "align_self": null,
       "border": null,
       "bottom": null,
       "display": null,
       "flex": null,
       "flex_flow": null,
       "grid_area": null,
       "grid_auto_columns": null,
       "grid_auto_flow": null,
       "grid_auto_rows": null,
       "grid_column": null,
       "grid_gap": null,
       "grid_row": null,
       "grid_template_areas": null,
       "grid_template_columns": null,
       "grid_template_rows": null,
       "height": null,
       "justify_content": null,
       "justify_items": null,
       "left": null,
       "margin": null,
       "max_height": null,
       "max_width": null,
       "min_height": null,
       "min_width": null,
       "object_fit": null,
       "object_position": null,
       "order": null,
       "overflow": null,
       "overflow_x": null,
       "overflow_y": null,
       "padding": null,
       "right": null,
       "top": null,
       "visibility": null,
       "width": null
      }
     },
     "96e82a31e6cf4ad895204ba31a483795": {
      "model_module": "@jupyter-widgets/controls",
      "model_module_version": "1.5.0",
      "model_name": "ProgressStyleModel",
      "state": {
       "_model_module": "@jupyter-widgets/controls",
       "_model_module_version": "1.5.0",
       "_model_name": "ProgressStyleModel",
       "_view_count": null,
       "_view_module": "@jupyter-widgets/base",
       "_view_module_version": "1.2.0",
       "_view_name": "StyleView",
       "bar_color": null,
       "description_width": ""
      }
     },
     "99aa66ebf64a4b06ac4d306159310908": {
      "model_module": "@jupyter-widgets/controls",
      "model_module_version": "1.5.0",
      "model_name": "HTMLModel",
      "state": {
       "_dom_classes": [],
       "_model_module": "@jupyter-widgets/controls",
       "_model_module_version": "1.5.0",
       "_model_name": "HTMLModel",
       "_view_count": null,
       "_view_module": "@jupyter-widgets/controls",
       "_view_module_version": "1.5.0",
       "_view_name": "HTMLView",
       "description": "",
       "description_tooltip": null,
       "layout": "IPY_MODEL_42576cd4b9644fb8b574130083ffb0f3",
       "placeholder": "​",
       "style": "IPY_MODEL_f424971762b14ecaa3dd68779a737614",
       "value": " 1/1 [00:00&lt;00:00, 102.67it/s]"
      }
     },
     "9b3f18b82ccb4ea795a95146a08947ef": {
      "model_module": "@jupyter-widgets/controls",
      "model_module_version": "1.5.0",
      "model_name": "HTMLModel",
      "state": {
       "_dom_classes": [],
       "_model_module": "@jupyter-widgets/controls",
       "_model_module_version": "1.5.0",
       "_model_name": "HTMLModel",
       "_view_count": null,
       "_view_module": "@jupyter-widgets/controls",
       "_view_module_version": "1.5.0",
       "_view_name": "HTMLView",
       "description": "",
       "description_tooltip": null,
       "layout": "IPY_MODEL_d4118d6179244eab94447fe9dd2292ff",
       "placeholder": "​",
       "style": "IPY_MODEL_b8d264eb66544792bae4194552678869",
       "value": " 124/124 [00:00&lt;00:00, 9.32kB/s]"
      }
     },
     "a1606132cb05482a91ec63a12e591a7c": {
      "model_module": "@jupyter-widgets/base",
      "model_module_version": "1.2.0",
      "model_name": "LayoutModel",
      "state": {
       "_model_module": "@jupyter-widgets/base",
       "_model_module_version": "1.2.0",
       "_model_name": "LayoutModel",
       "_view_count": null,
       "_view_module": "@jupyter-widgets/base",
       "_view_module_version": "1.2.0",
       "_view_name": "LayoutView",
       "align_content": null,
       "align_items": null,
       "align_self": null,
       "border": null,
       "bottom": null,
       "display": null,
       "flex": null,
       "flex_flow": null,
       "grid_area": null,
       "grid_auto_columns": null,
       "grid_auto_flow": null,
       "grid_auto_rows": null,
       "grid_column": null,
       "grid_gap": null,
       "grid_row": null,
       "grid_template_areas": null,
       "grid_template_columns": null,
       "grid_template_rows": null,
       "height": null,
       "justify_content": null,
       "justify_items": null,
       "left": null,
       "margin": null,
       "max_height": null,
       "max_width": null,
       "min_height": null,
       "min_width": null,
       "object_fit": null,
       "object_position": null,
       "order": null,
       "overflow": null,
       "overflow_x": null,
       "overflow_y": null,
       "padding": null,
       "right": null,
       "top": null,
       "visibility": null,
       "width": null
      }
     },
     "a4abf27009164296a2649c79e79ae731": {
      "model_module": "@jupyter-widgets/controls",
      "model_module_version": "1.5.0",
      "model_name": "HTMLModel",
      "state": {
       "_dom_classes": [],
       "_model_module": "@jupyter-widgets/controls",
       "_model_module_version": "1.5.0",
       "_model_name": "HTMLModel",
       "_view_count": null,
       "_view_module": "@jupyter-widgets/controls",
       "_view_module_version": "1.5.0",
       "_view_name": "HTMLView",
       "description": "",
       "description_tooltip": null,
       "layout": "IPY_MODEL_a7c66f6818b24c8b85e433d9e683275d",
       "placeholder": "​",
       "style": "IPY_MODEL_820619a0b439472496492bccea89f267",
       "value": " 1429/1429 [00:02&lt;00:00, 636.01 examples/s]"
      }
     },
     "a5ad328089e946cf8400ce066fc4ac06": {
      "model_module": "@jupyter-widgets/base",
      "model_module_version": "1.2.0",
      "model_name": "LayoutModel",
      "state": {
       "_model_module": "@jupyter-widgets/base",
       "_model_module_version": "1.2.0",
       "_model_name": "LayoutModel",
       "_view_count": null,
       "_view_module": "@jupyter-widgets/base",
       "_view_module_version": "1.2.0",
       "_view_name": "LayoutView",
       "align_content": null,
       "align_items": null,
       "align_self": null,
       "border": null,
       "bottom": null,
       "display": null,
       "flex": null,
       "flex_flow": null,
       "grid_area": null,
       "grid_auto_columns": null,
       "grid_auto_flow": null,
       "grid_auto_rows": null,
       "grid_column": null,
       "grid_gap": null,
       "grid_row": null,
       "grid_template_areas": null,
       "grid_template_columns": null,
       "grid_template_rows": null,
       "height": null,
       "justify_content": null,
       "justify_items": null,
       "left": null,
       "margin": null,
       "max_height": null,
       "max_width": null,
       "min_height": null,
       "min_width": null,
       "object_fit": null,
       "object_position": null,
       "order": null,
       "overflow": null,
       "overflow_x": null,
       "overflow_y": null,
       "padding": null,
       "right": null,
       "top": null,
       "visibility": null,
       "width": null
      }
     },
     "a7c66f6818b24c8b85e433d9e683275d": {
      "model_module": "@jupyter-widgets/base",
      "model_module_version": "1.2.0",
      "model_name": "LayoutModel",
      "state": {
       "_model_module": "@jupyter-widgets/base",
       "_model_module_version": "1.2.0",
       "_model_name": "LayoutModel",
       "_view_count": null,
       "_view_module": "@jupyter-widgets/base",
       "_view_module_version": "1.2.0",
       "_view_name": "LayoutView",
       "align_content": null,
       "align_items": null,
       "align_self": null,
       "border": null,
       "bottom": null,
       "display": null,
       "flex": null,
       "flex_flow": null,
       "grid_area": null,
       "grid_auto_columns": null,
       "grid_auto_flow": null,
       "grid_auto_rows": null,
       "grid_column": null,
       "grid_gap": null,
       "grid_row": null,
       "grid_template_areas": null,
       "grid_template_columns": null,
       "grid_template_rows": null,
       "height": null,
       "justify_content": null,
       "justify_items": null,
       "left": null,
       "margin": null,
       "max_height": null,
       "max_width": null,
       "min_height": null,
       "min_width": null,
       "object_fit": null,
       "object_position": null,
       "order": null,
       "overflow": null,
       "overflow_x": null,
       "overflow_y": null,
       "padding": null,
       "right": null,
       "top": null,
       "visibility": null,
       "width": null
      }
     },
     "ac2f8848384d4ea887121a855ae6f5ba": {
      "model_module": "@jupyter-widgets/controls",
      "model_module_version": "1.5.0",
      "model_name": "HTMLModel",
      "state": {
       "_dom_classes": [],
       "_model_module": "@jupyter-widgets/controls",
       "_model_module_version": "1.5.0",
       "_model_name": "HTMLModel",
       "_view_count": null,
       "_view_module": "@jupyter-widgets/controls",
       "_view_module_version": "1.5.0",
       "_view_name": "HTMLView",
       "description": "",
       "description_tooltip": null,
       "layout": "IPY_MODEL_f157a564ba5e4de480dba16480109257",
       "placeholder": "​",
       "style": "IPY_MODEL_b8c0d600735c46f3b47f7861aba29724",
       "value": " 665/665 [00:00&lt;00:00, 12.4kB/s]"
      }
     },
     "ac9291b72e8c45dea08b55865e50c95e": {
      "model_module": "@jupyter-widgets/controls",
      "model_module_version": "1.5.0",
      "model_name": "HTMLModel",
      "state": {
       "_dom_classes": [],
       "_model_module": "@jupyter-widgets/controls",
       "_model_module_version": "1.5.0",
       "_model_name": "HTMLModel",
       "_view_count": null,
       "_view_module": "@jupyter-widgets/controls",
       "_view_module_version": "1.5.0",
       "_view_name": "HTMLView",
       "description": "",
       "description_tooltip": null,
       "layout": "IPY_MODEL_15ae84536d1649c69a1b2049ae466287",
       "placeholder": "​",
       "style": "IPY_MODEL_cc8612fc19be492085b768b4ef0e5a9c",
       "value": " 1429/0 [00:00&lt;00:00, 17030.11 examples/s]"
      }
     },
     "b2820d32e0ab4a2fac42cacbbccdc39d": {
      "model_module": "@jupyter-widgets/base",
      "model_module_version": "1.2.0",
      "model_name": "LayoutModel",
      "state": {
       "_model_module": "@jupyter-widgets/base",
       "_model_module_version": "1.2.0",
       "_model_name": "LayoutModel",
       "_view_count": null,
       "_view_module": "@jupyter-widgets/base",
       "_view_module_version": "1.2.0",
       "_view_name": "LayoutView",
       "align_content": null,
       "align_items": null,
       "align_self": null,
       "border": null,
       "bottom": null,
       "display": null,
       "flex": null,
       "flex_flow": null,
       "grid_area": null,
       "grid_auto_columns": null,
       "grid_auto_flow": null,
       "grid_auto_rows": null,
       "grid_column": null,
       "grid_gap": null,
       "grid_row": null,
       "grid_template_areas": null,
       "grid_template_columns": null,
       "grid_template_rows": null,
       "height": null,
       "justify_content": null,
       "justify_items": null,
       "left": null,
       "margin": null,
       "max_height": null,
       "max_width": null,
       "min_height": null,
       "min_width": null,
       "object_fit": null,
       "object_position": null,
       "order": null,
       "overflow": null,
       "overflow_x": null,
       "overflow_y": null,
       "padding": null,
       "right": null,
       "top": null,
       "visibility": null,
       "width": "20px"
      }
     },
     "b438b6a6efff465083dd798ca635316e": {
      "model_module": "@jupyter-widgets/base",
      "model_module_version": "1.2.0",
      "model_name": "LayoutModel",
      "state": {
       "_model_module": "@jupyter-widgets/base",
       "_model_module_version": "1.2.0",
       "_model_name": "LayoutModel",
       "_view_count": null,
       "_view_module": "@jupyter-widgets/base",
       "_view_module_version": "1.2.0",
       "_view_name": "LayoutView",
       "align_content": null,
       "align_items": null,
       "align_self": null,
       "border": null,
       "bottom": null,
       "display": null,
       "flex": null,
       "flex_flow": null,
       "grid_area": null,
       "grid_auto_columns": null,
       "grid_auto_flow": null,
       "grid_auto_rows": null,
       "grid_column": null,
       "grid_gap": null,
       "grid_row": null,
       "grid_template_areas": null,
       "grid_template_columns": null,
       "grid_template_rows": null,
       "height": null,
       "justify_content": null,
       "justify_items": null,
       "left": null,
       "margin": null,
       "max_height": null,
       "max_width": null,
       "min_height": null,
       "min_width": null,
       "object_fit": null,
       "object_position": null,
       "order": null,
       "overflow": null,
       "overflow_x": null,
       "overflow_y": null,
       "padding": null,
       "right": null,
       "top": null,
       "visibility": null,
       "width": null
      }
     },
     "b7700744f426495da22cfde3cefe5b7c": {
      "model_module": "@jupyter-widgets/controls",
      "model_module_version": "1.5.0",
      "model_name": "FloatProgressModel",
      "state": {
       "_dom_classes": [],
       "_model_module": "@jupyter-widgets/controls",
       "_model_module_version": "1.5.0",
       "_model_name": "FloatProgressModel",
       "_view_count": null,
       "_view_module": "@jupyter-widgets/controls",
       "_view_module_version": "1.5.0",
       "_view_name": "ProgressView",
       "bar_style": "success",
       "description": "",
       "description_tooltip": null,
       "layout": "IPY_MODEL_bbd13be9086b42d2b50b11bf9c772a45",
       "max": 1429,
       "min": 0,
       "orientation": "horizontal",
       "style": "IPY_MODEL_2502a1fa5e0544d1b619d4694c6513ab",
       "value": 1429
      }
     },
     "b8c0d600735c46f3b47f7861aba29724": {
      "model_module": "@jupyter-widgets/controls",
      "model_module_version": "1.5.0",
      "model_name": "DescriptionStyleModel",
      "state": {
       "_model_module": "@jupyter-widgets/controls",
       "_model_module_version": "1.5.0",
       "_model_name": "DescriptionStyleModel",
       "_view_count": null,
       "_view_module": "@jupyter-widgets/base",
       "_view_module_version": "1.2.0",
       "_view_name": "StyleView",
       "description_width": ""
      }
     },
     "b8d264eb66544792bae4194552678869": {
      "model_module": "@jupyter-widgets/controls",
      "model_module_version": "1.5.0",
      "model_name": "DescriptionStyleModel",
      "state": {
       "_model_module": "@jupyter-widgets/controls",
       "_model_module_version": "1.5.0",
       "_model_name": "DescriptionStyleModel",
       "_view_count": null,
       "_view_module": "@jupyter-widgets/base",
       "_view_module_version": "1.2.0",
       "_view_name": "StyleView",
       "description_width": ""
      }
     },
     "ba114a60f8b149c1a6a0bb38d9e8315b": {
      "model_module": "@jupyter-widgets/controls",
      "model_module_version": "1.5.0",
      "model_name": "HBoxModel",
      "state": {
       "_dom_classes": [],
       "_model_module": "@jupyter-widgets/controls",
       "_model_module_version": "1.5.0",
       "_model_name": "HBoxModel",
       "_view_count": null,
       "_view_module": "@jupyter-widgets/controls",
       "_view_module_version": "1.5.0",
       "_view_name": "HBoxView",
       "box_style": "",
       "children": [
        "IPY_MODEL_47e9b81cba3648e79b22a84944d24f7b",
        "IPY_MODEL_c286c7b0efb04444bf05a2ed491a300a",
        "IPY_MODEL_bb5ef566e0a7478bad31cb8f5f58dca0"
       ],
       "layout": "IPY_MODEL_c42dae521619460db4782d3366d51aae"
      }
     },
     "bb5ef566e0a7478bad31cb8f5f58dca0": {
      "model_module": "@jupyter-widgets/controls",
      "model_module_version": "1.5.0",
      "model_name": "HTMLModel",
      "state": {
       "_dom_classes": [],
       "_model_module": "@jupyter-widgets/controls",
       "_model_module_version": "1.5.0",
       "_model_name": "HTMLModel",
       "_view_count": null,
       "_view_module": "@jupyter-widgets/controls",
       "_view_module_version": "1.5.0",
       "_view_name": "HTMLView",
       "description": "",
       "description_tooltip": null,
       "layout": "IPY_MODEL_844f5eb4c98f43f0a428d7efda6e8440",
       "placeholder": "​",
       "style": "IPY_MODEL_d79bbdf8b2fc4761accfd1d9881a4c8b",
       "value": " 26.0/26.0 [00:00&lt;00:00, 888B/s]"
      }
     },
     "bbd13be9086b42d2b50b11bf9c772a45": {
      "model_module": "@jupyter-widgets/base",
      "model_module_version": "1.2.0",
      "model_name": "LayoutModel",
      "state": {
       "_model_module": "@jupyter-widgets/base",
       "_model_module_version": "1.2.0",
       "_model_name": "LayoutModel",
       "_view_count": null,
       "_view_module": "@jupyter-widgets/base",
       "_view_module_version": "1.2.0",
       "_view_name": "LayoutView",
       "align_content": null,
       "align_items": null,
       "align_self": null,
       "border": null,
       "bottom": null,
       "display": null,
       "flex": null,
       "flex_flow": null,
       "grid_area": null,
       "grid_auto_columns": null,
       "grid_auto_flow": null,
       "grid_auto_rows": null,
       "grid_column": null,
       "grid_gap": null,
       "grid_row": null,
       "grid_template_areas": null,
       "grid_template_columns": null,
       "grid_template_rows": null,
       "height": null,
       "justify_content": null,
       "justify_items": null,
       "left": null,
       "margin": null,
       "max_height": null,
       "max_width": null,
       "min_height": null,
       "min_width": null,
       "object_fit": null,
       "object_position": null,
       "order": null,
       "overflow": null,
       "overflow_x": null,
       "overflow_y": null,
       "padding": null,
       "right": null,
       "top": null,
       "visibility": null,
       "width": null
      }
     },
     "c286c7b0efb04444bf05a2ed491a300a": {
      "model_module": "@jupyter-widgets/controls",
      "model_module_version": "1.5.0",
      "model_name": "FloatProgressModel",
      "state": {
       "_dom_classes": [],
       "_model_module": "@jupyter-widgets/controls",
       "_model_module_version": "1.5.0",
       "_model_name": "FloatProgressModel",
       "_view_count": null,
       "_view_module": "@jupyter-widgets/controls",
       "_view_module_version": "1.5.0",
       "_view_name": "ProgressView",
       "bar_style": "success",
       "description": "",
       "description_tooltip": null,
       "layout": "IPY_MODEL_675ea384638042cf8c6010d348aa6de3",
       "max": 26,
       "min": 0,
       "orientation": "horizontal",
       "style": "IPY_MODEL_cb04c4b8b1184c27b8a02ceeffe92b2a",
       "value": 26
      }
     },
     "c42dae521619460db4782d3366d51aae": {
      "model_module": "@jupyter-widgets/base",
      "model_module_version": "1.2.0",
      "model_name": "LayoutModel",
      "state": {
       "_model_module": "@jupyter-widgets/base",
       "_model_module_version": "1.2.0",
       "_model_name": "LayoutModel",
       "_view_count": null,
       "_view_module": "@jupyter-widgets/base",
       "_view_module_version": "1.2.0",
       "_view_name": "LayoutView",
       "align_content": null,
       "align_items": null,
       "align_self": null,
       "border": null,
       "bottom": null,
       "display": null,
       "flex": null,
       "flex_flow": null,
       "grid_area": null,
       "grid_auto_columns": null,
       "grid_auto_flow": null,
       "grid_auto_rows": null,
       "grid_column": null,
       "grid_gap": null,
       "grid_row": null,
       "grid_template_areas": null,
       "grid_template_columns": null,
       "grid_template_rows": null,
       "height": null,
       "justify_content": null,
       "justify_items": null,
       "left": null,
       "margin": null,
       "max_height": null,
       "max_width": null,
       "min_height": null,
       "min_width": null,
       "object_fit": null,
       "object_position": null,
       "order": null,
       "overflow": null,
       "overflow_x": null,
       "overflow_y": null,
       "padding": null,
       "right": null,
       "top": null,
       "visibility": null,
       "width": null
      }
     },
     "c44ecee377b14a58913e1094371e3452": {
      "model_module": "@jupyter-widgets/base",
      "model_module_version": "1.2.0",
      "model_name": "LayoutModel",
      "state": {
       "_model_module": "@jupyter-widgets/base",
       "_model_module_version": "1.2.0",
       "_model_name": "LayoutModel",
       "_view_count": null,
       "_view_module": "@jupyter-widgets/base",
       "_view_module_version": "1.2.0",
       "_view_name": "LayoutView",
       "align_content": null,
       "align_items": null,
       "align_self": null,
       "border": null,
       "bottom": null,
       "display": null,
       "flex": null,
       "flex_flow": null,
       "grid_area": null,
       "grid_auto_columns": null,
       "grid_auto_flow": null,
       "grid_auto_rows": null,
       "grid_column": null,
       "grid_gap": null,
       "grid_row": null,
       "grid_template_areas": null,
       "grid_template_columns": null,
       "grid_template_rows": null,
       "height": null,
       "justify_content": null,
       "justify_items": null,
       "left": null,
       "margin": null,
       "max_height": null,
       "max_width": null,
       "min_height": null,
       "min_width": null,
       "object_fit": null,
       "object_position": null,
       "order": null,
       "overflow": null,
       "overflow_x": null,
       "overflow_y": null,
       "padding": null,
       "right": null,
       "top": null,
       "visibility": null,
       "width": null
      }
     },
     "c79d9e61813347ec9aadbf4a0cfc5996": {
      "model_module": "@jupyter-widgets/controls",
      "model_module_version": "1.5.0",
      "model_name": "DescriptionStyleModel",
      "state": {
       "_model_module": "@jupyter-widgets/controls",
       "_model_module_version": "1.5.0",
       "_model_name": "DescriptionStyleModel",
       "_view_count": null,
       "_view_module": "@jupyter-widgets/base",
       "_view_module_version": "1.2.0",
       "_view_name": "StyleView",
       "description_width": ""
      }
     },
     "cb04c4b8b1184c27b8a02ceeffe92b2a": {
      "model_module": "@jupyter-widgets/controls",
      "model_module_version": "1.5.0",
      "model_name": "ProgressStyleModel",
      "state": {
       "_model_module": "@jupyter-widgets/controls",
       "_model_module_version": "1.5.0",
       "_model_name": "ProgressStyleModel",
       "_view_count": null,
       "_view_module": "@jupyter-widgets/base",
       "_view_module_version": "1.2.0",
       "_view_name": "StyleView",
       "bar_color": null,
       "description_width": ""
      }
     },
     "cb2a7f09306641dea7aad1c95f832441": {
      "model_module": "@jupyter-widgets/controls",
      "model_module_version": "1.5.0",
      "model_name": "DescriptionStyleModel",
      "state": {
       "_model_module": "@jupyter-widgets/controls",
       "_model_module_version": "1.5.0",
       "_model_name": "DescriptionStyleModel",
       "_view_count": null,
       "_view_module": "@jupyter-widgets/base",
       "_view_module_version": "1.2.0",
       "_view_name": "StyleView",
       "description_width": ""
      }
     },
     "cc8612fc19be492085b768b4ef0e5a9c": {
      "model_module": "@jupyter-widgets/controls",
      "model_module_version": "1.5.0",
      "model_name": "DescriptionStyleModel",
      "state": {
       "_model_module": "@jupyter-widgets/controls",
       "_model_module_version": "1.5.0",
       "_model_name": "DescriptionStyleModel",
       "_view_count": null,
       "_view_module": "@jupyter-widgets/base",
       "_view_module_version": "1.2.0",
       "_view_name": "StyleView",
       "description_width": ""
      }
     },
     "ce346548fd7d43c9869c4aa6b1b5d408": {
      "model_module": "@jupyter-widgets/controls",
      "model_module_version": "1.5.0",
      "model_name": "HBoxModel",
      "state": {
       "_dom_classes": [],
       "_model_module": "@jupyter-widgets/controls",
       "_model_module_version": "1.5.0",
       "_model_name": "HBoxModel",
       "_view_count": null,
       "_view_module": "@jupyter-widgets/controls",
       "_view_module_version": "1.5.0",
       "_view_name": "HBoxView",
       "box_style": "",
       "children": [
        "IPY_MODEL_0c0a846404044067ad7f602afdc08d0d",
        "IPY_MODEL_43ea223cd33c429aaa5cfe497d76300d",
        "IPY_MODEL_6a44ff3d25e246f2865d1edc1601e59f"
       ],
       "layout": "IPY_MODEL_072ed2d6efe948c1adff648dfa31c8cb"
      }
     },
     "d0b55b0120384a6ab41beb5fc5a7daad": {
      "model_module": "@jupyter-widgets/controls",
      "model_module_version": "1.5.0",
      "model_name": "DescriptionStyleModel",
      "state": {
       "_model_module": "@jupyter-widgets/controls",
       "_model_module_version": "1.5.0",
       "_model_name": "DescriptionStyleModel",
       "_view_count": null,
       "_view_module": "@jupyter-widgets/base",
       "_view_module_version": "1.2.0",
       "_view_name": "StyleView",
       "description_width": ""
      }
     },
     "d4118d6179244eab94447fe9dd2292ff": {
      "model_module": "@jupyter-widgets/base",
      "model_module_version": "1.2.0",
      "model_name": "LayoutModel",
      "state": {
       "_model_module": "@jupyter-widgets/base",
       "_model_module_version": "1.2.0",
       "_model_name": "LayoutModel",
       "_view_count": null,
       "_view_module": "@jupyter-widgets/base",
       "_view_module_version": "1.2.0",
       "_view_name": "LayoutView",
       "align_content": null,
       "align_items": null,
       "align_self": null,
       "border": null,
       "bottom": null,
       "display": null,
       "flex": null,
       "flex_flow": null,
       "grid_area": null,
       "grid_auto_columns": null,
       "grid_auto_flow": null,
       "grid_auto_rows": null,
       "grid_column": null,
       "grid_gap": null,
       "grid_row": null,
       "grid_template_areas": null,
       "grid_template_columns": null,
       "grid_template_rows": null,
       "height": null,
       "justify_content": null,
       "justify_items": null,
       "left": null,
       "margin": null,
       "max_height": null,
       "max_width": null,
       "min_height": null,
       "min_width": null,
       "object_fit": null,
       "object_position": null,
       "order": null,
       "overflow": null,
       "overflow_x": null,
       "overflow_y": null,
       "padding": null,
       "right": null,
       "top": null,
       "visibility": null,
       "width": null
      }
     },
     "d44b6af31a8d4682b3cbd6e87cbcbb76": {
      "model_module": "@jupyter-widgets/controls",
      "model_module_version": "1.5.0",
      "model_name": "HBoxModel",
      "state": {
       "_dom_classes": [],
       "_model_module": "@jupyter-widgets/controls",
       "_model_module_version": "1.5.0",
       "_model_name": "HBoxModel",
       "_view_count": null,
       "_view_module": "@jupyter-widgets/controls",
       "_view_module_version": "1.5.0",
       "_view_name": "HBoxView",
       "box_style": "",
       "children": [
        "IPY_MODEL_90a7caf8fff642fe802995f6f87d207d",
        "IPY_MODEL_eff853f033574c9abe77d77a0438c33f",
        "IPY_MODEL_ac2f8848384d4ea887121a855ae6f5ba"
       ],
       "layout": "IPY_MODEL_6510cdcf86044470a1a67134a6c31d54"
      }
     },
     "d79bbdf8b2fc4761accfd1d9881a4c8b": {
      "model_module": "@jupyter-widgets/controls",
      "model_module_version": "1.5.0",
      "model_name": "DescriptionStyleModel",
      "state": {
       "_model_module": "@jupyter-widgets/controls",
       "_model_module_version": "1.5.0",
       "_model_name": "DescriptionStyleModel",
       "_view_count": null,
       "_view_module": "@jupyter-widgets/base",
       "_view_module_version": "1.2.0",
       "_view_name": "StyleView",
       "description_width": ""
      }
     },
     "d931e171902d4ed5bb1f8f5c60964ff6": {
      "model_module": "@jupyter-widgets/controls",
      "model_module_version": "1.5.0",
      "model_name": "HBoxModel",
      "state": {
       "_dom_classes": [],
       "_model_module": "@jupyter-widgets/controls",
       "_model_module_version": "1.5.0",
       "_model_name": "HBoxModel",
       "_view_count": null,
       "_view_module": "@jupyter-widgets/controls",
       "_view_module_version": "1.5.0",
       "_view_name": "HBoxView",
       "box_style": "",
       "children": [
        "IPY_MODEL_6830deb4d03e48b1a10376ebe32c99a7",
        "IPY_MODEL_265812c843e5438787c7fa0e3c51be01",
        "IPY_MODEL_e334726bc56b47159d19b3c01b600b05"
       ],
       "layout": "IPY_MODEL_e22ea0b0892c4257b4381b2083acbd23"
      }
     },
     "db11ea81439046d99162b8600ba357d8": {
      "model_module": "@jupyter-widgets/controls",
      "model_module_version": "1.5.0",
      "model_name": "HTMLModel",
      "state": {
       "_dom_classes": [],
       "_model_module": "@jupyter-widgets/controls",
       "_model_module_version": "1.5.0",
       "_model_name": "HTMLModel",
       "_view_count": null,
       "_view_module": "@jupyter-widgets/controls",
       "_view_module_version": "1.5.0",
       "_view_name": "HTMLView",
       "description": "",
       "description_tooltip": null,
       "layout": "IPY_MODEL_8b213892835846549007ba456c0fbee3",
       "placeholder": "​",
       "style": "IPY_MODEL_e5361fc9814d4a47bbf303245426ba9b",
       "value": "Generating train split: "
      }
     },
     "dc787176ada547f69e26ab56e4e9c17d": {
      "model_module": "@jupyter-widgets/controls",
      "model_module_version": "1.5.0",
      "model_name": "FloatProgressModel",
      "state": {
       "_dom_classes": [],
       "_model_module": "@jupyter-widgets/controls",
       "_model_module_version": "1.5.0",
       "_model_name": "FloatProgressModel",
       "_view_count": null,
       "_view_module": "@jupyter-widgets/controls",
       "_view_module_version": "1.5.0",
       "_view_name": "ProgressView",
       "bar_style": "success",
       "description": "",
       "description_tooltip": null,
       "layout": "IPY_MODEL_b2820d32e0ab4a2fac42cacbbccdc39d",
       "max": 1,
       "min": 0,
       "orientation": "horizontal",
       "style": "IPY_MODEL_1faa9fffe94b4ea6afce344688789092",
       "value": 1
      }
     },
     "dfecde1ad51f41c984c74bde6ea61c15": {
      "model_module": "@jupyter-widgets/controls",
      "model_module_version": "1.5.0",
      "model_name": "DescriptionStyleModel",
      "state": {
       "_model_module": "@jupyter-widgets/controls",
       "_model_module_version": "1.5.0",
       "_model_name": "DescriptionStyleModel",
       "_view_count": null,
       "_view_module": "@jupyter-widgets/base",
       "_view_module_version": "1.2.0",
       "_view_name": "StyleView",
       "description_width": ""
      }
     },
     "e22ea0b0892c4257b4381b2083acbd23": {
      "model_module": "@jupyter-widgets/base",
      "model_module_version": "1.2.0",
      "model_name": "LayoutModel",
      "state": {
       "_model_module": "@jupyter-widgets/base",
       "_model_module_version": "1.2.0",
       "_model_name": "LayoutModel",
       "_view_count": null,
       "_view_module": "@jupyter-widgets/base",
       "_view_module_version": "1.2.0",
       "_view_name": "LayoutView",
       "align_content": null,
       "align_items": null,
       "align_self": null,
       "border": null,
       "bottom": null,
       "display": null,
       "flex": null,
       "flex_flow": null,
       "grid_area": null,
       "grid_auto_columns": null,
       "grid_auto_flow": null,
       "grid_auto_rows": null,
       "grid_column": null,
       "grid_gap": null,
       "grid_row": null,
       "grid_template_areas": null,
       "grid_template_columns": null,
       "grid_template_rows": null,
       "height": null,
       "justify_content": null,
       "justify_items": null,
       "left": null,
       "margin": null,
       "max_height": null,
       "max_width": null,
       "min_height": null,
       "min_width": null,
       "object_fit": null,
       "object_position": null,
       "order": null,
       "overflow": null,
       "overflow_x": null,
       "overflow_y": null,
       "padding": null,
       "right": null,
       "top": null,
       "visibility": null,
       "width": null
      }
     },
     "e2b02edac83941f5ae0cfc032bb6267e": {
      "model_module": "@jupyter-widgets/base",
      "model_module_version": "1.2.0",
      "model_name": "LayoutModel",
      "state": {
       "_model_module": "@jupyter-widgets/base",
       "_model_module_version": "1.2.0",
       "_model_name": "LayoutModel",
       "_view_count": null,
       "_view_module": "@jupyter-widgets/base",
       "_view_module_version": "1.2.0",
       "_view_name": "LayoutView",
       "align_content": null,
       "align_items": null,
       "align_self": null,
       "border": null,
       "bottom": null,
       "display": null,
       "flex": null,
       "flex_flow": null,
       "grid_area": null,
       "grid_auto_columns": null,
       "grid_auto_flow": null,
       "grid_auto_rows": null,
       "grid_column": null,
       "grid_gap": null,
       "grid_row": null,
       "grid_template_areas": null,
       "grid_template_columns": null,
       "grid_template_rows": null,
       "height": null,
       "justify_content": null,
       "justify_items": null,
       "left": null,
       "margin": null,
       "max_height": null,
       "max_width": null,
       "min_height": null,
       "min_width": null,
       "object_fit": null,
       "object_position": null,
       "order": null,
       "overflow": null,
       "overflow_x": null,
       "overflow_y": null,
       "padding": null,
       "right": null,
       "top": null,
       "visibility": null,
       "width": null
      }
     },
     "e334726bc56b47159d19b3c01b600b05": {
      "model_module": "@jupyter-widgets/controls",
      "model_module_version": "1.5.0",
      "model_name": "HTMLModel",
      "state": {
       "_dom_classes": [],
       "_model_module": "@jupyter-widgets/controls",
       "_model_module_version": "1.5.0",
       "_model_name": "HTMLModel",
       "_view_count": null,
       "_view_module": "@jupyter-widgets/controls",
       "_view_module_version": "1.5.0",
       "_view_name": "HTMLView",
       "description": "",
       "description_tooltip": null,
       "layout": "IPY_MODEL_3eaa2323abc64f9498e53da84667cb7f",
       "placeholder": "​",
       "style": "IPY_MODEL_cb2a7f09306641dea7aad1c95f832441",
       "value": " 1.36M/1.36M [00:00&lt;00:00, 15.8MB/s]"
      }
     },
     "e5361fc9814d4a47bbf303245426ba9b": {
      "model_module": "@jupyter-widgets/controls",
      "model_module_version": "1.5.0",
      "model_name": "DescriptionStyleModel",
      "state": {
       "_model_module": "@jupyter-widgets/controls",
       "_model_module_version": "1.5.0",
       "_model_name": "DescriptionStyleModel",
       "_view_count": null,
       "_view_module": "@jupyter-widgets/base",
       "_view_module_version": "1.2.0",
       "_view_name": "StyleView",
       "description_width": ""
      }
     },
     "e564dc047cd7454dacd1f8154036eb44": {
      "model_module": "@jupyter-widgets/base",
      "model_module_version": "1.2.0",
      "model_name": "LayoutModel",
      "state": {
       "_model_module": "@jupyter-widgets/base",
       "_model_module_version": "1.2.0",
       "_model_name": "LayoutModel",
       "_view_count": null,
       "_view_module": "@jupyter-widgets/base",
       "_view_module_version": "1.2.0",
       "_view_name": "LayoutView",
       "align_content": null,
       "align_items": null,
       "align_self": null,
       "border": null,
       "bottom": null,
       "display": null,
       "flex": null,
       "flex_flow": null,
       "grid_area": null,
       "grid_auto_columns": null,
       "grid_auto_flow": null,
       "grid_auto_rows": null,
       "grid_column": null,
       "grid_gap": null,
       "grid_row": null,
       "grid_template_areas": null,
       "grid_template_columns": null,
       "grid_template_rows": null,
       "height": null,
       "justify_content": null,
       "justify_items": null,
       "left": null,
       "margin": null,
       "max_height": null,
       "max_width": null,
       "min_height": null,
       "min_width": null,
       "object_fit": null,
       "object_position": null,
       "order": null,
       "overflow": null,
       "overflow_x": null,
       "overflow_y": null,
       "padding": null,
       "right": null,
       "top": null,
       "visibility": null,
       "width": null
      }
     },
     "e77f11de63b1461081e60e5e7b5b99c7": {
      "model_module": "@jupyter-widgets/base",
      "model_module_version": "1.2.0",
      "model_name": "LayoutModel",
      "state": {
       "_model_module": "@jupyter-widgets/base",
       "_model_module_version": "1.2.0",
       "_model_name": "LayoutModel",
       "_view_count": null,
       "_view_module": "@jupyter-widgets/base",
       "_view_module_version": "1.2.0",
       "_view_name": "LayoutView",
       "align_content": null,
       "align_items": null,
       "align_self": null,
       "border": null,
       "bottom": null,
       "display": null,
       "flex": null,
       "flex_flow": null,
       "grid_area": null,
       "grid_auto_columns": null,
       "grid_auto_flow": null,
       "grid_auto_rows": null,
       "grid_column": null,
       "grid_gap": null,
       "grid_row": null,
       "grid_template_areas": null,
       "grid_template_columns": null,
       "grid_template_rows": null,
       "height": null,
       "justify_content": null,
       "justify_items": null,
       "left": null,
       "margin": null,
       "max_height": null,
       "max_width": null,
       "min_height": null,
       "min_width": null,
       "object_fit": null,
       "object_position": null,
       "order": null,
       "overflow": null,
       "overflow_x": null,
       "overflow_y": null,
       "padding": null,
       "right": null,
       "top": null,
       "visibility": null,
       "width": null
      }
     },
     "e947b68769244ee3bbeaa46c14a8e1c1": {
      "model_module": "@jupyter-widgets/controls",
      "model_module_version": "1.5.0",
      "model_name": "ProgressStyleModel",
      "state": {
       "_model_module": "@jupyter-widgets/controls",
       "_model_module_version": "1.5.0",
       "_model_name": "ProgressStyleModel",
       "_view_count": null,
       "_view_module": "@jupyter-widgets/base",
       "_view_module_version": "1.2.0",
       "_view_name": "StyleView",
       "bar_color": null,
       "description_width": ""
      }
     },
     "ec4647b53ea944cf9688d10a5731717c": {
      "model_module": "@jupyter-widgets/controls",
      "model_module_version": "1.5.0",
      "model_name": "ProgressStyleModel",
      "state": {
       "_model_module": "@jupyter-widgets/controls",
       "_model_module_version": "1.5.0",
       "_model_name": "ProgressStyleModel",
       "_view_count": null,
       "_view_module": "@jupyter-widgets/base",
       "_view_module_version": "1.2.0",
       "_view_name": "StyleView",
       "bar_color": null,
       "description_width": ""
      }
     },
     "eff853f033574c9abe77d77a0438c33f": {
      "model_module": "@jupyter-widgets/controls",
      "model_module_version": "1.5.0",
      "model_name": "FloatProgressModel",
      "state": {
       "_dom_classes": [],
       "_model_module": "@jupyter-widgets/controls",
       "_model_module_version": "1.5.0",
       "_model_name": "FloatProgressModel",
       "_view_count": null,
       "_view_module": "@jupyter-widgets/controls",
       "_view_module_version": "1.5.0",
       "_view_name": "ProgressView",
       "bar_style": "success",
       "description": "",
       "description_tooltip": null,
       "layout": "IPY_MODEL_a5ad328089e946cf8400ce066fc4ac06",
       "max": 665,
       "min": 0,
       "orientation": "horizontal",
       "style": "IPY_MODEL_e947b68769244ee3bbeaa46c14a8e1c1",
       "value": 665
      }
     },
     "f157a564ba5e4de480dba16480109257": {
      "model_module": "@jupyter-widgets/base",
      "model_module_version": "1.2.0",
      "model_name": "LayoutModel",
      "state": {
       "_model_module": "@jupyter-widgets/base",
       "_model_module_version": "1.2.0",
       "_model_name": "LayoutModel",
       "_view_count": null,
       "_view_module": "@jupyter-widgets/base",
       "_view_module_version": "1.2.0",
       "_view_name": "LayoutView",
       "align_content": null,
       "align_items": null,
       "align_self": null,
       "border": null,
       "bottom": null,
       "display": null,
       "flex": null,
       "flex_flow": null,
       "grid_area": null,
       "grid_auto_columns": null,
       "grid_auto_flow": null,
       "grid_auto_rows": null,
       "grid_column": null,
       "grid_gap": null,
       "grid_row": null,
       "grid_template_areas": null,
       "grid_template_columns": null,
       "grid_template_rows": null,
       "height": null,
       "justify_content": null,
       "justify_items": null,
       "left": null,
       "margin": null,
       "max_height": null,
       "max_width": null,
       "min_height": null,
       "min_width": null,
       "object_fit": null,
       "object_position": null,
       "order": null,
       "overflow": null,
       "overflow_x": null,
       "overflow_y": null,
       "padding": null,
       "right": null,
       "top": null,
       "visibility": null,
       "width": null
      }
     },
     "f299110245914b9599cae96646458dc8": {
      "model_module": "@jupyter-widgets/base",
      "model_module_version": "1.2.0",
      "model_name": "LayoutModel",
      "state": {
       "_model_module": "@jupyter-widgets/base",
       "_model_module_version": "1.2.0",
       "_model_name": "LayoutModel",
       "_view_count": null,
       "_view_module": "@jupyter-widgets/base",
       "_view_module_version": "1.2.0",
       "_view_name": "LayoutView",
       "align_content": null,
       "align_items": null,
       "align_self": null,
       "border": null,
       "bottom": null,
       "display": null,
       "flex": null,
       "flex_flow": null,
       "grid_area": null,
       "grid_auto_columns": null,
       "grid_auto_flow": null,
       "grid_auto_rows": null,
       "grid_column": null,
       "grid_gap": null,
       "grid_row": null,
       "grid_template_areas": null,
       "grid_template_columns": null,
       "grid_template_rows": null,
       "height": null,
       "justify_content": null,
       "justify_items": null,
       "left": null,
       "margin": null,
       "max_height": null,
       "max_width": null,
       "min_height": null,
       "min_width": null,
       "object_fit": null,
       "object_position": null,
       "order": null,
       "overflow": null,
       "overflow_x": null,
       "overflow_y": null,
       "padding": null,
       "right": null,
       "top": null,
       "visibility": null,
       "width": null
      }
     },
     "f35bc4ee8dc6400b9450d929e1dc71c6": {
      "model_module": "@jupyter-widgets/base",
      "model_module_version": "1.2.0",
      "model_name": "LayoutModel",
      "state": {
       "_model_module": "@jupyter-widgets/base",
       "_model_module_version": "1.2.0",
       "_model_name": "LayoutModel",
       "_view_count": null,
       "_view_module": "@jupyter-widgets/base",
       "_view_module_version": "1.2.0",
       "_view_name": "LayoutView",
       "align_content": null,
       "align_items": null,
       "align_self": null,
       "border": null,
       "bottom": null,
       "display": null,
       "flex": null,
       "flex_flow": null,
       "grid_area": null,
       "grid_auto_columns": null,
       "grid_auto_flow": null,
       "grid_auto_rows": null,
       "grid_column": null,
       "grid_gap": null,
       "grid_row": null,
       "grid_template_areas": null,
       "grid_template_columns": null,
       "grid_template_rows": null,
       "height": null,
       "justify_content": null,
       "justify_items": null,
       "left": null,
       "margin": null,
       "max_height": null,
       "max_width": null,
       "min_height": null,
       "min_width": null,
       "object_fit": null,
       "object_position": null,
       "order": null,
       "overflow": null,
       "overflow_x": null,
       "overflow_y": null,
       "padding": null,
       "right": null,
       "top": null,
       "visibility": null,
       "width": null
      }
     },
     "f424971762b14ecaa3dd68779a737614": {
      "model_module": "@jupyter-widgets/controls",
      "model_module_version": "1.5.0",
      "model_name": "DescriptionStyleModel",
      "state": {
       "_model_module": "@jupyter-widgets/controls",
       "_model_module_version": "1.5.0",
       "_model_name": "DescriptionStyleModel",
       "_view_count": null,
       "_view_module": "@jupyter-widgets/base",
       "_view_module_version": "1.2.0",
       "_view_name": "StyleView",
       "description_width": ""
      }
     },
     "f83f27e57c6c4a99a1046ec074abbba5": {
      "model_module": "@jupyter-widgets/controls",
      "model_module_version": "1.5.0",
      "model_name": "HTMLModel",
      "state": {
       "_dom_classes": [],
       "_model_module": "@jupyter-widgets/controls",
       "_model_module_version": "1.5.0",
       "_model_name": "HTMLModel",
       "_view_count": null,
       "_view_module": "@jupyter-widgets/controls",
       "_view_module_version": "1.5.0",
       "_view_name": "HTMLView",
       "description": "",
       "description_tooltip": null,
       "layout": "IPY_MODEL_e2b02edac83941f5ae0cfc032bb6267e",
       "placeholder": "​",
       "style": "IPY_MODEL_342de3071e4a44b39f3d62f01019eee0",
       "value": "generation_config.json: 100%"
      }
     },
     "f9ff44101bb64db1b8b78ec25e81b0d5": {
      "model_module": "@jupyter-widgets/base",
      "model_module_version": "1.2.0",
      "model_name": "LayoutModel",
      "state": {
       "_model_module": "@jupyter-widgets/base",
       "_model_module_version": "1.2.0",
       "_model_name": "LayoutModel",
       "_view_count": null,
       "_view_module": "@jupyter-widgets/base",
       "_view_module_version": "1.2.0",
       "_view_name": "LayoutView",
       "align_content": null,
       "align_items": null,
       "align_self": null,
       "border": null,
       "bottom": null,
       "display": null,
       "flex": null,
       "flex_flow": null,
       "grid_area": null,
       "grid_auto_columns": null,
       "grid_auto_flow": null,
       "grid_auto_rows": null,
       "grid_column": null,
       "grid_gap": null,
       "grid_row": null,
       "grid_template_areas": null,
       "grid_template_columns": null,
       "grid_template_rows": null,
       "height": null,
       "justify_content": null,
       "justify_items": null,
       "left": null,
       "margin": null,
       "max_height": null,
       "max_width": null,
       "min_height": null,
       "min_width": null,
       "object_fit": null,
       "object_position": null,
       "order": null,
       "overflow": null,
       "overflow_x": null,
       "overflow_y": null,
       "padding": null,
       "right": null,
       "top": null,
       "visibility": null,
       "width": null
      }
     },
     "fc563d9f2e7d4861a1b2797f23a03aae": {
      "model_module": "@jupyter-widgets/controls",
      "model_module_version": "1.5.0",
      "model_name": "HBoxModel",
      "state": {
       "_dom_classes": [],
       "_model_module": "@jupyter-widgets/controls",
       "_model_module_version": "1.5.0",
       "_model_name": "HBoxModel",
       "_view_count": null,
       "_view_module": "@jupyter-widgets/controls",
       "_view_module_version": "1.5.0",
       "_view_name": "HBoxView",
       "box_style": "",
       "children": [
        "IPY_MODEL_1840b85e79c2472899d2a32e288fe150",
        "IPY_MODEL_8fad78f190a94c74ab601a1266ec4029",
        "IPY_MODEL_7e61bcad104b45c08ecd8c5c271c1231"
       ],
       "layout": "IPY_MODEL_a1606132cb05482a91ec63a12e591a7c"
      }
     }
    },
    "version_major": 2,
    "version_minor": 0
   }
  }
 },
 "nbformat": 4,
 "nbformat_minor": 5
}
